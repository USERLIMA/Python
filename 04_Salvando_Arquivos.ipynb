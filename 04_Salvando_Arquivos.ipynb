{
 "cells": [
  {
   "cell_type": "markdown",
   "id": "2bf282bc",
   "metadata": {},
   "source": [
    "# Salvando os dados em arquivos"
   ]
  },
  {
   "cell_type": "code",
   "execution_count": 1,
   "id": "71522729",
   "metadata": {},
   "outputs": [],
   "source": [
    "# importando as libs\n",
    "import pandas as pd\n",
    "import numpy as np"
   ]
  },
  {
   "cell_type": "code",
   "execution_count": 3,
   "id": "2d34012c",
   "metadata": {},
   "outputs": [],
   "source": [
    "dadosFrame = {\n",
    "    'nome': ['Barry', 'Kara', 'Clark'],\n",
    "    'idade': [28, 32, 52],\n",
    "    'função': ['Fotografo', 'Secretaria', 'Reporter']\n",
    "}\n",
    "\n",
    "df = pd.DataFrame(dadosFrame)"
   ]
  },
  {
   "cell_type": "markdown",
   "id": "545686c5",
   "metadata": {},
   "source": [
    "### Salvando em Excel"
   ]
  },
  {
   "cell_type": "code",
   "execution_count": 4,
   "id": "9648b610",
   "metadata": {},
   "outputs": [],
   "source": [
    "# Herois.xlsx é o nome para o arquivo\n",
    "# Planilha1 é o nome para a planilha\n",
    "df.to_excel(\"Herois.xlsx\", \"Planilha1\")"
   ]
  },
  {
   "cell_type": "markdown",
   "id": "768e0278",
   "metadata": {},
   "source": [
    "### Salvando em CSV"
   ]
  },
  {
   "cell_type": "code",
   "execution_count": 5,
   "id": "e4836f12",
   "metadata": {},
   "outputs": [],
   "source": [
    "df.to_csv(\"Meus_Herois.csv\")"
   ]
  },
  {
   "cell_type": "markdown",
   "id": "d8074bfa",
   "metadata": {},
   "source": [
    "### Salvando em JSON"
   ]
  },
  {
   "cell_type": "code",
   "execution_count": 6,
   "id": "46ba6765",
   "metadata": {},
   "outputs": [],
   "source": [
    "df.to_json(\"Meus_Herois_2.json\")"
   ]
  },
  {
   "cell_type": "markdown",
   "id": "84024f02",
   "metadata": {},
   "source": [
    "### Salvando em HTML"
   ]
  },
  {
   "cell_type": "code",
   "execution_count": 7,
   "id": "bf8dc17b",
   "metadata": {},
   "outputs": [],
   "source": [
    "df.to_html(\"MinhaPaginaHerois.html\")"
   ]
  },
  {
   "cell_type": "code",
   "execution_count": null,
   "id": "2d39eba1",
   "metadata": {},
   "outputs": [],
   "source": []
  }
 ],
 "metadata": {
  "kernelspec": {
   "display_name": "Python 3",
   "language": "python",
   "name": "python3"
  },
  "language_info": {
   "codemirror_mode": {
    "name": "ipython",
    "version": 3
   },
   "file_extension": ".py",
   "mimetype": "text/x-python",
   "name": "python",
   "nbconvert_exporter": "python",
   "pygments_lexer": "ipython3",
   "version": "3.8.8"
  }
 },
 "nbformat": 4,
 "nbformat_minor": 5
}
