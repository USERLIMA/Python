{
 "cells": [
  {
   "cell_type": "markdown",
   "id": "98abcf60",
   "metadata": {},
   "source": [
    "# Big Data\n",
    "\n",
    "Trabalhando com Grande Volume de Dados."
   ]
  },
  {
   "cell_type": "code",
   "execution_count": 1,
   "id": "62bfa4d8",
   "metadata": {},
   "outputs": [],
   "source": [
    "# Import das Libs\n",
    "import pandas as pd"
   ]
  },
  {
   "cell_type": "code",
   "execution_count": 3,
   "id": "e9b25adb",
   "metadata": {},
   "outputs": [],
   "source": [
    "# Ler o arquivo\n",
    "dados = pd.read_csv('Accidents7904.csv', low_memory=False)"
   ]
  },
  {
   "cell_type": "code",
   "execution_count": 6,
   "id": "eef52b09",
   "metadata": {},
   "outputs": [
    {
     "name": "stdout",
     "output_type": "stream",
     "text": [
      "Total de linhas: 6224198\n"
     ]
    }
   ],
   "source": [
    "# Mostrando a quantidade de linhas\n",
    "print(\"Total de linhas: {}\".format(len(dados)))"
   ]
  },
  {
   "cell_type": "code",
   "execution_count": 8,
   "id": "6198c401",
   "metadata": {},
   "outputs": [
    {
     "data": {
      "text/html": [
       "<div>\n",
       "<style scoped>\n",
       "    .dataframe tbody tr th:only-of-type {\n",
       "        vertical-align: middle;\n",
       "    }\n",
       "\n",
       "    .dataframe tbody tr th {\n",
       "        vertical-align: top;\n",
       "    }\n",
       "\n",
       "    .dataframe thead th {\n",
       "        text-align: right;\n",
       "    }\n",
       "</style>\n",
       "<table border=\"1\" class=\"dataframe\">\n",
       "  <thead>\n",
       "    <tr style=\"text-align: right;\">\n",
       "      <th></th>\n",
       "      <th>Accident_Index</th>\n",
       "      <th>Location_Easting_OSGR</th>\n",
       "      <th>Location_Northing_OSGR</th>\n",
       "      <th>Longitude</th>\n",
       "      <th>Latitude</th>\n",
       "      <th>Police_Force</th>\n",
       "      <th>Accident_Severity</th>\n",
       "      <th>Number_of_Vehicles</th>\n",
       "      <th>Number_of_Casualties</th>\n",
       "      <th>Date</th>\n",
       "      <th>...</th>\n",
       "      <th>Pedestrian_Crossing-Human_Control</th>\n",
       "      <th>Pedestrian_Crossing-Physical_Facilities</th>\n",
       "      <th>Light_Conditions</th>\n",
       "      <th>Weather_Conditions</th>\n",
       "      <th>Road_Surface_Conditions</th>\n",
       "      <th>Special_Conditions_at_Site</th>\n",
       "      <th>Carriageway_Hazards</th>\n",
       "      <th>Urban_or_Rural_Area</th>\n",
       "      <th>Did_Police_Officer_Attend_Scene_of_Accident</th>\n",
       "      <th>LSOA_of_Accident_Location</th>\n",
       "    </tr>\n",
       "  </thead>\n",
       "  <tbody>\n",
       "    <tr>\n",
       "      <th>0</th>\n",
       "      <td>197901A11AD14</td>\n",
       "      <td>NaN</td>\n",
       "      <td>NaN</td>\n",
       "      <td>NaN</td>\n",
       "      <td>NaN</td>\n",
       "      <td>1</td>\n",
       "      <td>3</td>\n",
       "      <td>2</td>\n",
       "      <td>1</td>\n",
       "      <td>18/01/1979</td>\n",
       "      <td>...</td>\n",
       "      <td>-1</td>\n",
       "      <td>-1</td>\n",
       "      <td>1</td>\n",
       "      <td>8</td>\n",
       "      <td>1</td>\n",
       "      <td>-1</td>\n",
       "      <td>0</td>\n",
       "      <td>-1</td>\n",
       "      <td>-1</td>\n",
       "      <td>NaN</td>\n",
       "    </tr>\n",
       "    <tr>\n",
       "      <th>1</th>\n",
       "      <td>197901A1BAW34</td>\n",
       "      <td>198460.0</td>\n",
       "      <td>894000.0</td>\n",
       "      <td>NaN</td>\n",
       "      <td>NaN</td>\n",
       "      <td>1</td>\n",
       "      <td>3</td>\n",
       "      <td>1</td>\n",
       "      <td>1</td>\n",
       "      <td>01/01/1979</td>\n",
       "      <td>...</td>\n",
       "      <td>-1</td>\n",
       "      <td>-1</td>\n",
       "      <td>4</td>\n",
       "      <td>8</td>\n",
       "      <td>3</td>\n",
       "      <td>-1</td>\n",
       "      <td>0</td>\n",
       "      <td>-1</td>\n",
       "      <td>-1</td>\n",
       "      <td>NaN</td>\n",
       "    </tr>\n",
       "    <tr>\n",
       "      <th>2</th>\n",
       "      <td>197901A1BFD77</td>\n",
       "      <td>406380.0</td>\n",
       "      <td>307000.0</td>\n",
       "      <td>NaN</td>\n",
       "      <td>NaN</td>\n",
       "      <td>1</td>\n",
       "      <td>3</td>\n",
       "      <td>2</td>\n",
       "      <td>3</td>\n",
       "      <td>01/01/1979</td>\n",
       "      <td>...</td>\n",
       "      <td>-1</td>\n",
       "      <td>-1</td>\n",
       "      <td>4</td>\n",
       "      <td>8</td>\n",
       "      <td>3</td>\n",
       "      <td>-1</td>\n",
       "      <td>0</td>\n",
       "      <td>-1</td>\n",
       "      <td>-1</td>\n",
       "      <td>NaN</td>\n",
       "    </tr>\n",
       "    <tr>\n",
       "      <th>3</th>\n",
       "      <td>197901A1BGC20</td>\n",
       "      <td>281680.0</td>\n",
       "      <td>440000.0</td>\n",
       "      <td>NaN</td>\n",
       "      <td>NaN</td>\n",
       "      <td>1</td>\n",
       "      <td>3</td>\n",
       "      <td>2</td>\n",
       "      <td>2</td>\n",
       "      <td>01/01/1979</td>\n",
       "      <td>...</td>\n",
       "      <td>-1</td>\n",
       "      <td>-1</td>\n",
       "      <td>4</td>\n",
       "      <td>8</td>\n",
       "      <td>3</td>\n",
       "      <td>-1</td>\n",
       "      <td>0</td>\n",
       "      <td>-1</td>\n",
       "      <td>-1</td>\n",
       "      <td>NaN</td>\n",
       "    </tr>\n",
       "    <tr>\n",
       "      <th>4</th>\n",
       "      <td>197901A1BGF95</td>\n",
       "      <td>153960.0</td>\n",
       "      <td>795000.0</td>\n",
       "      <td>NaN</td>\n",
       "      <td>NaN</td>\n",
       "      <td>1</td>\n",
       "      <td>2</td>\n",
       "      <td>2</td>\n",
       "      <td>1</td>\n",
       "      <td>01/01/1979</td>\n",
       "      <td>...</td>\n",
       "      <td>-1</td>\n",
       "      <td>-1</td>\n",
       "      <td>4</td>\n",
       "      <td>3</td>\n",
       "      <td>3</td>\n",
       "      <td>-1</td>\n",
       "      <td>0</td>\n",
       "      <td>-1</td>\n",
       "      <td>-1</td>\n",
       "      <td>NaN</td>\n",
       "    </tr>\n",
       "    <tr>\n",
       "      <th>5</th>\n",
       "      <td>197901A1CBC96</td>\n",
       "      <td>300370.0</td>\n",
       "      <td>146000.0</td>\n",
       "      <td>NaN</td>\n",
       "      <td>NaN</td>\n",
       "      <td>1</td>\n",
       "      <td>3</td>\n",
       "      <td>1</td>\n",
       "      <td>1</td>\n",
       "      <td>01/01/1979</td>\n",
       "      <td>...</td>\n",
       "      <td>-1</td>\n",
       "      <td>-1</td>\n",
       "      <td>4</td>\n",
       "      <td>8</td>\n",
       "      <td>3</td>\n",
       "      <td>-1</td>\n",
       "      <td>0</td>\n",
       "      <td>-1</td>\n",
       "      <td>-1</td>\n",
       "      <td>NaN</td>\n",
       "    </tr>\n",
       "    <tr>\n",
       "      <th>6</th>\n",
       "      <td>197901A1DAK71</td>\n",
       "      <td>143370.0</td>\n",
       "      <td>951000.0</td>\n",
       "      <td>NaN</td>\n",
       "      <td>NaN</td>\n",
       "      <td>1</td>\n",
       "      <td>3</td>\n",
       "      <td>2</td>\n",
       "      <td>2</td>\n",
       "      <td>01/01/1979</td>\n",
       "      <td>...</td>\n",
       "      <td>-1</td>\n",
       "      <td>-1</td>\n",
       "      <td>4</td>\n",
       "      <td>8</td>\n",
       "      <td>3</td>\n",
       "      <td>-1</td>\n",
       "      <td>0</td>\n",
       "      <td>-1</td>\n",
       "      <td>-1</td>\n",
       "      <td>NaN</td>\n",
       "    </tr>\n",
       "    <tr>\n",
       "      <th>7</th>\n",
       "      <td>197901A1DAP95</td>\n",
       "      <td>471960.0</td>\n",
       "      <td>845000.0</td>\n",
       "      <td>NaN</td>\n",
       "      <td>NaN</td>\n",
       "      <td>1</td>\n",
       "      <td>3</td>\n",
       "      <td>2</td>\n",
       "      <td>1</td>\n",
       "      <td>01/01/1979</td>\n",
       "      <td>...</td>\n",
       "      <td>-1</td>\n",
       "      <td>-1</td>\n",
       "      <td>4</td>\n",
       "      <td>8</td>\n",
       "      <td>3</td>\n",
       "      <td>-1</td>\n",
       "      <td>0</td>\n",
       "      <td>-1</td>\n",
       "      <td>-1</td>\n",
       "      <td>NaN</td>\n",
       "    </tr>\n",
       "    <tr>\n",
       "      <th>8</th>\n",
       "      <td>197901A1EAC32</td>\n",
       "      <td>323880.0</td>\n",
       "      <td>632000.0</td>\n",
       "      <td>NaN</td>\n",
       "      <td>NaN</td>\n",
       "      <td>1</td>\n",
       "      <td>2</td>\n",
       "      <td>1</td>\n",
       "      <td>1</td>\n",
       "      <td>01/01/1979</td>\n",
       "      <td>...</td>\n",
       "      <td>-1</td>\n",
       "      <td>-1</td>\n",
       "      <td>4</td>\n",
       "      <td>3</td>\n",
       "      <td>3</td>\n",
       "      <td>-1</td>\n",
       "      <td>0</td>\n",
       "      <td>-1</td>\n",
       "      <td>-1</td>\n",
       "      <td>NaN</td>\n",
       "    </tr>\n",
       "    <tr>\n",
       "      <th>9</th>\n",
       "      <td>197901A1FBK75</td>\n",
       "      <td>136380.0</td>\n",
       "      <td>245000.0</td>\n",
       "      <td>NaN</td>\n",
       "      <td>NaN</td>\n",
       "      <td>1</td>\n",
       "      <td>3</td>\n",
       "      <td>2</td>\n",
       "      <td>1</td>\n",
       "      <td>01/01/1979</td>\n",
       "      <td>...</td>\n",
       "      <td>-1</td>\n",
       "      <td>-1</td>\n",
       "      <td>4</td>\n",
       "      <td>8</td>\n",
       "      <td>3</td>\n",
       "      <td>-1</td>\n",
       "      <td>0</td>\n",
       "      <td>-1</td>\n",
       "      <td>-1</td>\n",
       "      <td>NaN</td>\n",
       "    </tr>\n",
       "    <tr>\n",
       "      <th>10</th>\n",
       "      <td>197901A1FDC88</td>\n",
       "      <td>334770.0</td>\n",
       "      <td>848000.0</td>\n",
       "      <td>NaN</td>\n",
       "      <td>NaN</td>\n",
       "      <td>1</td>\n",
       "      <td>3</td>\n",
       "      <td>1</td>\n",
       "      <td>1</td>\n",
       "      <td>01/01/1979</td>\n",
       "      <td>...</td>\n",
       "      <td>-1</td>\n",
       "      <td>-1</td>\n",
       "      <td>4</td>\n",
       "      <td>8</td>\n",
       "      <td>3</td>\n",
       "      <td>-1</td>\n",
       "      <td>0</td>\n",
       "      <td>-1</td>\n",
       "      <td>-1</td>\n",
       "      <td>NaN</td>\n",
       "    </tr>\n",
       "  </tbody>\n",
       "</table>\n",
       "<p>11 rows × 32 columns</p>\n",
       "</div>"
      ],
      "text/plain": [
       "   Accident_Index  Location_Easting_OSGR  Location_Northing_OSGR  Longitude  \\\n",
       "0   197901A11AD14                    NaN                     NaN        NaN   \n",
       "1   197901A1BAW34               198460.0                894000.0        NaN   \n",
       "2   197901A1BFD77               406380.0                307000.0        NaN   \n",
       "3   197901A1BGC20               281680.0                440000.0        NaN   \n",
       "4   197901A1BGF95               153960.0                795000.0        NaN   \n",
       "5   197901A1CBC96               300370.0                146000.0        NaN   \n",
       "6   197901A1DAK71               143370.0                951000.0        NaN   \n",
       "7   197901A1DAP95               471960.0                845000.0        NaN   \n",
       "8   197901A1EAC32               323880.0                632000.0        NaN   \n",
       "9   197901A1FBK75               136380.0                245000.0        NaN   \n",
       "10  197901A1FDC88               334770.0                848000.0        NaN   \n",
       "\n",
       "    Latitude  Police_Force  Accident_Severity  Number_of_Vehicles  \\\n",
       "0        NaN             1                  3                   2   \n",
       "1        NaN             1                  3                   1   \n",
       "2        NaN             1                  3                   2   \n",
       "3        NaN             1                  3                   2   \n",
       "4        NaN             1                  2                   2   \n",
       "5        NaN             1                  3                   1   \n",
       "6        NaN             1                  3                   2   \n",
       "7        NaN             1                  3                   2   \n",
       "8        NaN             1                  2                   1   \n",
       "9        NaN             1                  3                   2   \n",
       "10       NaN             1                  3                   1   \n",
       "\n",
       "    Number_of_Casualties        Date  ...  Pedestrian_Crossing-Human_Control  \\\n",
       "0                      1  18/01/1979  ...                                 -1   \n",
       "1                      1  01/01/1979  ...                                 -1   \n",
       "2                      3  01/01/1979  ...                                 -1   \n",
       "3                      2  01/01/1979  ...                                 -1   \n",
       "4                      1  01/01/1979  ...                                 -1   \n",
       "5                      1  01/01/1979  ...                                 -1   \n",
       "6                      2  01/01/1979  ...                                 -1   \n",
       "7                      1  01/01/1979  ...                                 -1   \n",
       "8                      1  01/01/1979  ...                                 -1   \n",
       "9                      1  01/01/1979  ...                                 -1   \n",
       "10                     1  01/01/1979  ...                                 -1   \n",
       "\n",
       "   Pedestrian_Crossing-Physical_Facilities  Light_Conditions  \\\n",
       "0                                       -1                 1   \n",
       "1                                       -1                 4   \n",
       "2                                       -1                 4   \n",
       "3                                       -1                 4   \n",
       "4                                       -1                 4   \n",
       "5                                       -1                 4   \n",
       "6                                       -1                 4   \n",
       "7                                       -1                 4   \n",
       "8                                       -1                 4   \n",
       "9                                       -1                 4   \n",
       "10                                      -1                 4   \n",
       "\n",
       "   Weather_Conditions  Road_Surface_Conditions  Special_Conditions_at_Site  \\\n",
       "0                   8                        1                          -1   \n",
       "1                   8                        3                          -1   \n",
       "2                   8                        3                          -1   \n",
       "3                   8                        3                          -1   \n",
       "4                   3                        3                          -1   \n",
       "5                   8                        3                          -1   \n",
       "6                   8                        3                          -1   \n",
       "7                   8                        3                          -1   \n",
       "8                   3                        3                          -1   \n",
       "9                   8                        3                          -1   \n",
       "10                  8                        3                          -1   \n",
       "\n",
       "    Carriageway_Hazards  Urban_or_Rural_Area  \\\n",
       "0                     0                   -1   \n",
       "1                     0                   -1   \n",
       "2                     0                   -1   \n",
       "3                     0                   -1   \n",
       "4                     0                   -1   \n",
       "5                     0                   -1   \n",
       "6                     0                   -1   \n",
       "7                     0                   -1   \n",
       "8                     0                   -1   \n",
       "9                     0                   -1   \n",
       "10                    0                   -1   \n",
       "\n",
       "    Did_Police_Officer_Attend_Scene_of_Accident  LSOA_of_Accident_Location  \n",
       "0                                            -1                        NaN  \n",
       "1                                            -1                        NaN  \n",
       "2                                            -1                        NaN  \n",
       "3                                            -1                        NaN  \n",
       "4                                            -1                        NaN  \n",
       "5                                            -1                        NaN  \n",
       "6                                            -1                        NaN  \n",
       "7                                            -1                        NaN  \n",
       "8                                            -1                        NaN  \n",
       "9                                            -1                        NaN  \n",
       "10                                           -1                        NaN  \n",
       "\n",
       "[11 rows x 32 columns]"
      ]
     },
     "execution_count": 8,
     "metadata": {},
     "output_type": "execute_result"
    }
   ],
   "source": [
    "dados.head(11)"
   ]
  },
  {
   "cell_type": "markdown",
   "id": "66862204",
   "metadata": {},
   "source": [
    "# Começando com a Analise dos Dados\n",
    "\n",
    "### Acidentes que ocorreram no domingo"
   ]
  },
  {
   "cell_type": "code",
   "execution_count": 9,
   "id": "8ac332a9",
   "metadata": {},
   "outputs": [],
   "source": [
    "# Quantos acidentes ocorreram no Domingo\n",
    "acidentesDomingo = dados[dados.Day_of_Week == 1]"
   ]
  },
  {
   "cell_type": "code",
   "execution_count": 10,
   "id": "9765689e",
   "metadata": {},
   "outputs": [
    {
     "name": "stdout",
     "output_type": "stream",
     "text": [
      "Acidentes que ocorreram em um DOMINGO: 693847\n"
     ]
    }
   ],
   "source": [
    "print(\"Acidentes que ocorreram em um DOMINGO: {}\"\n",
    "      .format(len(acidentesDomingo)))"
   ]
  },
  {
   "cell_type": "markdown",
   "id": "d71de1ac",
   "metadata": {},
   "source": [
    "### Acidentes de Domingo com mais de 20 Carros"
   ]
  },
  {
   "cell_type": "code",
   "execution_count": 11,
   "id": "25d93637",
   "metadata": {},
   "outputs": [],
   "source": [
    "# Consultando quantos acidentes de Domingo que tiveram mais que carros \n",
    "acidentesDomingoVinteCarros = dados[\n",
    "    (dados.Day_of_Week == 1) & (dados.Number_of_Vehicles > 20)\n",
    "]"
   ]
  },
  {
   "cell_type": "code",
   "execution_count": 12,
   "id": "02459318",
   "metadata": {},
   "outputs": [
    {
     "name": "stdout",
     "output_type": "stream",
     "text": [
      "Acidentes que ocorreram em um DOMINGO com mais de 20 Carros: 10\n"
     ]
    }
   ],
   "source": [
    "print(\"Acidentes que ocorreram em um DOMINGO com mais de 20 Carros: {}\"\n",
    "      .format(len(acidentesDomingoVinteCarros)))"
   ]
  },
  {
   "cell_type": "markdown",
   "id": "80521d48",
   "metadata": {},
   "source": [
    "### Acidentes em um Domingo com > 20 carros e na Chuva"
   ]
  },
  {
   "cell_type": "code",
   "execution_count": 15,
   "id": "748b4d82",
   "metadata": {},
   "outputs": [],
   "source": [
    "# Consultando quantos acidentes de Domingo que \n",
    "# tiveram mais que carros e na chuva\n",
    "acidentesDomingoVinteCarrosChuva = dados[\n",
    "    (dados.Day_of_Week == 1) & # 1 = Domingo\n",
    "    (dados.Number_of_Vehicles > 20) & # Mais de 20 Carros\n",
    "    (dados.Weather_Conditions == 2) # 2 = Chuvas com Ventos Fortes\n",
    "]"
   ]
  },
  {
   "cell_type": "code",
   "execution_count": 16,
   "id": "e3340071",
   "metadata": {},
   "outputs": [
    {
     "name": "stdout",
     "output_type": "stream",
     "text": [
      "Acidentes que ocorreram em um DOMINGO com mais de 20 Carros na Chuva: 4\n"
     ]
    }
   ],
   "source": [
    "print(\"Acidentes que ocorreram em um DOMINGO com mais de 20 Carros na Chuva: {}\"\n",
    "      .format(len(acidentesDomingoVinteCarrosChuva)))"
   ]
  },
  {
   "cell_type": "markdown",
   "id": "0c135898",
   "metadata": {},
   "source": [
    "### Quantos acidentes ocorreram em Londres"
   ]
  },
  {
   "cell_type": "code",
   "execution_count": 21,
   "id": "e41b11bc",
   "metadata": {},
   "outputs": [],
   "source": [
    "# Acidentes em Londres\n",
    "# Police Force = 1 indica Metropolitan Force que é a Scotland Yard\n",
    "# Days of Week == 1 representa domingo\n",
    "londres = dados[\n",
    "    (dados.Police_Force == 1) & (dados.Day_of_Week == 1) \n",
    "]"
   ]
  },
  {
   "cell_type": "code",
   "execution_count": 23,
   "id": "76025ce7",
   "metadata": {},
   "outputs": [
    {
     "name": "stdout",
     "output_type": "stream",
     "text": [
      "Acidentes que ocorreram em um DOMINGO em Londres(1974-2004): 114624\n"
     ]
    }
   ],
   "source": [
    "print(\"Acidentes que ocorreram em um DOMINGO em Londres(1974-2004): {}\"\n",
    "      .format(len(londres)))"
   ]
  },
  {
   "cell_type": "markdown",
   "id": "a2ce42a6",
   "metadata": {},
   "source": [
    "### Acidentes ocorridos nos anos 2000"
   ]
  },
  {
   "cell_type": "code",
   "execution_count": 26,
   "id": "35b4cf18",
   "metadata": {},
   "outputs": [],
   "source": [
    "# If ‘coerce’, then invalid parsing will be set as NaN.\n",
    "# https://pandas.pydata.org/docs/reference/api/pandas.to_numeric.html\n",
    "# Londres Maior que 01/01/2000 e Menor que 31/12/2000 \n",
    "londres2000 = londres[(\n",
    "    pd.to_datetime(londres['Date'], errors='coerce') > \n",
    "        pd.to_datetime('2000-01-01', errors='coerce')\n",
    "    ) \n",
    "     \n",
    "    &\n",
    "\n",
    "    (\n",
    "    pd.to_datetime(londres['Date'], errors='coerce') <\n",
    "        pd.to_datetime('2000-12-31', errors='coerce')\n",
    ")]"
   ]
  },
  {
   "cell_type": "code",
   "execution_count": 27,
   "id": "f60e29fb",
   "metadata": {},
   "outputs": [
    {
     "name": "stdout",
     "output_type": "stream",
     "text": [
      "Acidentes ocorridos em Londres, no ano 2000: 3889\n"
     ]
    }
   ],
   "source": [
    "print(\"Acidentes ocorridos em Londres, no ano 2000: {}\".format(len(londres2000)))"
   ]
  },
  {
   "cell_type": "markdown",
   "id": "795d659e",
   "metadata": {},
   "source": [
    "### Salvando o Conjunto de Dados para Londres 2000"
   ]
  },
  {
   "cell_type": "code",
   "execution_count": 30,
   "id": "f79c3ce3",
   "metadata": {},
   "outputs": [],
   "source": [
    "writer = pd.ExcelWriter(\n",
    "    'Acidentes_Londres_2000.xlsx', \n",
    "        engine='xlsxwriter'\n",
    ")\n",
    "\n",
    "londres2000.to_excel(writer, 'Londres 2000')\n",
    "\n",
    "writer.save()"
   ]
  },
  {
   "cell_type": "code",
   "execution_count": null,
   "id": "81afef26",
   "metadata": {},
   "outputs": [],
   "source": []
  }
 ],
 "metadata": {
  "kernelspec": {
   "display_name": "Python 3",
   "language": "python",
   "name": "python3"
  },
  "language_info": {
   "codemirror_mode": {
    "name": "ipython",
    "version": 3
   },
   "file_extension": ".py",
   "mimetype": "text/x-python",
   "name": "python",
   "nbconvert_exporter": "python",
   "pygments_lexer": "ipython3",
   "version": "3.8.8"
  }
 },
 "nbformat": 4,
 "nbformat_minor": 5
}
