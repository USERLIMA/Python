{
 "cells": [
  {
   "cell_type": "markdown",
   "id": "2d3ec023",
   "metadata": {},
   "source": [
    "# Numpy \n",
    "\n",
    "É uma das principais libs de Computação Cientifica. \n",
    "\n",
    "### Numpy Matriz(Array)"
   ]
  },
  {
   "cell_type": "code",
   "execution_count": 2,
   "id": "898fd0cc",
   "metadata": {},
   "outputs": [],
   "source": [
    "# Importar a lib Numpy\n",
    "import numpy as np"
   ]
  },
  {
   "cell_type": "code",
   "execution_count": 5,
   "id": "6ed57e21",
   "metadata": {},
   "outputs": [
    {
     "name": "stdout",
     "output_type": "stream",
     "text": [
      "[1 2 3 4 5 6 7 8 9]\n",
      "<class 'numpy.ndarray'>\n"
     ]
    }
   ],
   "source": [
    "meusNumeros = np.array([1,2,3,4,5,6,7,8,9])\n",
    "print(meusNumeros)\n",
    "print(type(meusNumeros))"
   ]
  },
  {
   "cell_type": "code",
   "execution_count": 8,
   "id": "4e353f8c",
   "metadata": {},
   "outputs": [
    {
     "name": "stdout",
     "output_type": "stream",
     "text": [
      "[[1.2 2.  3.6]\n",
      " [5.1 3.  1. ]]\n"
     ]
    }
   ],
   "source": [
    "# Criando uma matriz com números inteiros e flutuantes(Com casas decimais)\n",
    "meusNumerosDois = np.array([\n",
    "    [1.2, 2, 3.6],\n",
    "    [5.1, 3, 1]\n",
    "])\n",
    "\n",
    "print(meusNumerosDois)"
   ]
  },
  {
   "cell_type": "markdown",
   "id": "34f6feda",
   "metadata": {},
   "source": [
    "## Criando Matrizes com 0s e 1s"
   ]
  },
  {
   "cell_type": "code",
   "execution_count": 12,
   "id": "0e568762",
   "metadata": {},
   "outputs": [
    {
     "name": "stdout",
     "output_type": "stream",
     "text": [
      "[[0. 0. 0. 0. 0.]\n",
      " [0. 0. 0. 0. 0.]\n",
      " [0. 0. 0. 0. 0.]\n",
      " [0. 0. 0. 0. 0.]\n",
      " [0. 0. 0. 0. 0.]]\n"
     ]
    }
   ],
   "source": [
    "zeros = np.zeros((5, 5))\n",
    "print(zeros)"
   ]
  },
  {
   "cell_type": "code",
   "execution_count": 13,
   "id": "3362b985",
   "metadata": {},
   "outputs": [
    {
     "name": "stdout",
     "output_type": "stream",
     "text": [
      "[[1. 1. 1. 1. 1.]\n",
      " [1. 1. 1. 1. 1.]\n",
      " [1. 1. 1. 1. 1.]\n",
      " [1. 1. 1. 1. 1.]\n",
      " [1. 1. 1. 1. 1.]]\n"
     ]
    }
   ],
   "source": [
    "ones = np.ones((5,5))\n",
    "print(ones)"
   ]
  },
  {
   "cell_type": "markdown",
   "id": "2cb1c8c8",
   "metadata": {},
   "source": [
    "### Arange e Shape"
   ]
  },
  {
   "cell_type": "code",
   "execution_count": 16,
   "id": "8824a649",
   "metadata": {},
   "outputs": [
    {
     "name": "stdout",
     "output_type": "stream",
     "text": [
      "[0 1 2 3 4 5 6 7 8]\n"
     ]
    }
   ],
   "source": [
    "# Arange vai criar uma listagem no intervalo indicado\n",
    "# Nesse caso, do 0 até o 8\n",
    "meusDados = np.arange(9)\n",
    "print(meusDados)"
   ]
  },
  {
   "cell_type": "code",
   "execution_count": 18,
   "id": "ee3f722a",
   "metadata": {},
   "outputs": [
    {
     "name": "stdout",
     "output_type": "stream",
     "text": [
      "[[0 1 2]\n",
      " [3 4 5]\n",
      " [6 7 8]]\n"
     ]
    }
   ],
   "source": [
    "# Reshape vai mudar o formato da minha matriz.\n",
    "# Nesse exemplo, mudados para uma Matriz bidimensional de 3 linhas x 3 colunas\n",
    "meusDados = np.arange(9).reshape(3,3)\n",
    "print(meusDados)"
   ]
  },
  {
   "cell_type": "markdown",
   "id": "91922302",
   "metadata": {},
   "source": [
    "# Fatiando(Slicing) de uma Matriz"
   ]
  },
  {
   "cell_type": "code",
   "execution_count": 19,
   "id": "cd8f572b",
   "metadata": {},
   "outputs": [
    {
     "name": "stdout",
     "output_type": "stream",
     "text": [
      "[1 2 3 4 5 6 7 8 9]\n"
     ]
    }
   ],
   "source": [
    "numbers = np.array([1,2,3,4,5,6,7,8,9])\n",
    "print(numbers)"
   ]
  },
  {
   "cell_type": "code",
   "execution_count": 20,
   "id": "5fec9641",
   "metadata": {},
   "outputs": [
    {
     "name": "stdout",
     "output_type": "stream",
     "text": [
      "[3 4 5]\n"
     ]
    }
   ],
   "source": [
    "print(numbers[2:5])"
   ]
  },
  {
   "cell_type": "code",
   "execution_count": 21,
   "id": "7724f98b",
   "metadata": {},
   "outputs": [
    {
     "name": "stdout",
     "output_type": "stream",
     "text": [
      "[1 2 3 4]\n"
     ]
    }
   ],
   "source": [
    "print(numbers[:-5])"
   ]
  },
  {
   "cell_type": "code",
   "execution_count": 22,
   "id": "bb27da53",
   "metadata": {},
   "outputs": [
    {
     "name": "stdout",
     "output_type": "stream",
     "text": [
      "[6 7 8 9]\n"
     ]
    }
   ],
   "source": [
    "print(numbers[5:])"
   ]
  },
  {
   "cell_type": "code",
   "execution_count": 23,
   "id": "7b9fd110",
   "metadata": {},
   "outputs": [
    {
     "name": "stdout",
     "output_type": "stream",
     "text": [
      "[9 8 7 6 5 4 3 2 1]\n"
     ]
    }
   ],
   "source": [
    "print(numbers[::-1])"
   ]
  },
  {
   "cell_type": "code",
   "execution_count": 24,
   "id": "dba6d14f",
   "metadata": {},
   "outputs": [
    {
     "name": "stdout",
     "output_type": "stream",
     "text": [
      "[9 7 5 3 1]\n"
     ]
    }
   ],
   "source": [
    "print(numbers[::-2])"
   ]
  },
  {
   "cell_type": "code",
   "execution_count": 25,
   "id": "b20240bc",
   "metadata": {},
   "outputs": [
    {
     "name": "stdout",
     "output_type": "stream",
     "text": [
      "[9 6 3]\n"
     ]
    }
   ],
   "source": [
    "print(numbers[::-3])"
   ]
  },
  {
   "cell_type": "code",
   "execution_count": null,
   "id": "41c3909c",
   "metadata": {},
   "outputs": [],
   "source": []
  }
 ],
 "metadata": {
  "kernelspec": {
   "display_name": "Python 3",
   "language": "python",
   "name": "python3"
  },
  "language_info": {
   "codemirror_mode": {
    "name": "ipython",
    "version": 3
   },
   "file_extension": ".py",
   "mimetype": "text/x-python",
   "name": "python",
   "nbconvert_exporter": "python",
   "pygments_lexer": "ipython3",
   "version": "3.8.8"
  }
 },
 "nbformat": 4,
 "nbformat_minor": 5
}
