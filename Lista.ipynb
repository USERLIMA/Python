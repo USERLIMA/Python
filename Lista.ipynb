{
 "cells": [
  {
   "cell_type": "markdown",
   "id": "18c43790",
   "metadata": {},
   "source": [
    "## Revisão Geral"
   ]
  },
  {
   "cell_type": "markdown",
   "id": "1e33a697",
   "metadata": {},
   "source": [
    "### Declaração de Variáveis\n",
    "\n",
    "#### Regras para se Criar Variáveis\n",
    "\n",
    "- Usar letras e números\n",
    "- Não utilizar caracteres especiais !@#$\\%\\ˆ&*()\n",
    "- Não usar espaços em branco\n",
    "- Não usar acentuação\n",
    "\n",
    "##### Recomendado\n",
    "\n",
    "- Usar o estilo **CamelCase**, aonde as primeiras letras de cada palavra são maiusculas.\n",
    "- **Posso utilizar**:\n",
    "    - minhaVarUm\n",
    "    - minhaVar02\n",
    "    - minha_variavel_legal\n",
    "    - minhasupervariaveldosistema\n",
    "- **Não Posso**:\n",
    "    - 01MinhaVar\n",
    "    - Minha Var Legalzona\n",
    "    - Minha Variável\n",
    "    - 02_var-Legal.algumaCoisa\n",
    "    \n",
    "# Tipos de Dados\n",
    "\n",
    "### Numéricos\n",
    "\n",
    "- **Inteiro**: são valores sem casas decimais\n",
    "- **Flutuante ou Float**: valores com casas decimais\n",
    "\n",
    "### Texto\n",
    "\n",
    "- **Texto ou Caractere**: são frases, palavras e textos que podem ser armazenados.\n",
    "\n",
    "### Lógico\n",
    "\n",
    "- **Bool ou Booleano**: são os meus valores lógicos, verdadeiro(1) ou falso(0).\n",
    "\n",
    "\n"
   ]
  },
  {
   "cell_type": "markdown",
   "id": "9cf5f192",
   "metadata": {},
   "source": [
    "## Para fixação:\n",
    "\n",
    "- 01 - Crie um algoritmo que receba 2 valores e armazene esses valores em duas vars diferentes. \n",
    "    - Após fazer a leitura, apresente os valores da seguinte forma:\n",
    "    - Os valores informados foram: primeiro valor e segundo valor.\n",
    "    \n",
    "    Vocês tem 5min"
   ]
  },
  {
   "cell_type": "code",
   "execution_count": 4,
   "id": "2e8fa22d",
   "metadata": {},
   "outputs": [
    {
     "name": "stdout",
     "output_type": "stream",
     "text": [
      "Digite o primeiro valor: 11\n",
      "Digite o segundo valor: 11\n",
      "Os valores informados foram 11.0 e 11.0\n"
     ]
    }
   ],
   "source": [
    "meuPrimeiroValor = float(input(\"Digite o primeiro valor: \"))\n",
    "meuSegundoValor = float(input(\"Digite o segundo valor: \"))\n",
    "\n",
    "print(\"Os valores informados foram {} e {}\".format(meuPrimeiroValor, meuSegundoValor))"
   ]
  },
  {
   "cell_type": "markdown",
   "id": "06c89c84",
   "metadata": {},
   "source": [
    "- 02 - Crie um algoritmo que receba as seguintes informações de um sistema para cadastro de seus alunos e responsáveis:\n",
    "    - Infos dos alunos: nome, idade, data de nascimento, telefone residencial, nome do pai, nome da mãe, pessoas autorizadas a retira-la da escola, notas, turma que está matriculado, possui alergias."
   ]
  },
  {
   "cell_type": "code",
   "execution_count": 5,
   "id": "e483c658",
   "metadata": {},
   "outputs": [
    {
     "name": "stdout",
     "output_type": "stream",
     "text": [
      "Digite o nome do aluno: a\n",
      "Digite a idade do aluno: a\n",
      "Digite a data de nascimento do aluno: a\n",
      "Digite o telefone residencial: a\n",
      "Digite o nome do pai: a\n",
      "Digite o nome da mãe: a\n",
      "Digite as pessoas autorizadas: a\n",
      "Digite a nota do aluno: a\n",
      "Digite a turma que está matriculado: a\n",
      "Possui alergias? S/Na\n"
     ]
    }
   ],
   "source": [
    "## Criando as variáveis\n",
    "nomeDoAluno = input(\"Digite o nome do aluno: \")\n",
    "idadeAluno = input(\"Digite a idade do aluno: \")\n",
    "dataNascimento = input(\"Digite a data de nascimento do aluno: \")\n",
    "telResidencial = input(\"Digite o telefone residencial: \")\n",
    "nomePai = input(\"Digite o nome do pai: \")\n",
    "nomeMae = input(\"Digite o nome da mãe: \")\n",
    "pessoasAutorizadas = input(\"Digite as pessoas autorizadas: \")\n",
    "notas = input(\"Digite a nota do aluno: \")\n",
    "turmaMat = input(\"Digite a turma que está matriculado: \")\n",
    "alergias = input(\"Possui alergias? S/N? \")"
   ]
  },
  {
   "cell_type": "markdown",
   "id": "a8dc607f",
   "metadata": {},
   "source": [
    "## Estruturas de Repetição\n",
    "\n",
    "Faça um algoritmo que receba quatro notas de um aluno e efetue a média dessas notas. Caso o resultado seja:\n",
    "\n",
    "- Menor que 04 aluno **Reprovado**\n",
    "- Maior que 04 e menor que 07, aluno de **Recuperação** \n",
    "- Maior que 07 aluno **Aprovado**\n",
    "\n",
    "A conta que deve ser executada (notaUm + notaDois + notaTres + notaQuatro) / 4"
   ]
  },
  {
   "cell_type": "code",
   "execution_count": null,
   "id": "83403cf1",
   "metadata": {},
   "outputs": [],
   "source": []
  },
  {
   "cell_type": "markdown",
   "id": "5ca71ee0",
   "metadata": {},
   "source": [
    "Faça um algoritmo que recebe um valor e verifique se o valor informado é positivo ou negativo!"
   ]
  },
  {
   "cell_type": "code",
   "execution_count": null,
   "id": "a0a37e8d",
   "metadata": {},
   "outputs": [],
   "source": []
  },
  {
   "cell_type": "markdown",
   "id": "ea116703",
   "metadata": {},
   "source": [
    "Faça um algoritmo que leia dois valores e verifique se o primeiro é maior que o segundo!"
   ]
  },
  {
   "cell_type": "code",
   "execution_count": null,
   "id": "53d92159",
   "metadata": {},
   "outputs": [],
   "source": []
  },
  {
   "cell_type": "markdown",
   "id": "5b123430",
   "metadata": {},
   "source": [
    "Faça um algoritmo que receba um valor e verifique o o valor é par ou impar."
   ]
  },
  {
   "cell_type": "code",
   "execution_count": null,
   "id": "f4855722",
   "metadata": {},
   "outputs": [],
   "source": []
  },
  {
   "cell_type": "markdown",
   "id": "349d5c6c",
   "metadata": {},
   "source": [
    "# Estruturas de Repetição\n",
    "\n",
    "Escreva um laço utilizando o laço for, que imprima todos os dados existentes emn uma lista.\n",
    "\n",
    "lista = [0,2,3,4,5,6,7,8,9,10,11,12,13,14]"
   ]
  },
  {
   "cell_type": "code",
   "execution_count": null,
   "id": "ec7a48a5",
   "metadata": {},
   "outputs": [],
   "source": []
  }
 ],
 "metadata": {
  "kernelspec": {
   "display_name": "Python 3",
   "language": "python",
   "name": "python3"
  },
  "language_info": {
   "codemirror_mode": {
    "name": "ipython",
    "version": 3
   },
   "file_extension": ".py",
   "mimetype": "text/x-python",
   "name": "python",
   "nbconvert_exporter": "python",
   "pygments_lexer": "ipython3",
   "version": "3.8.8"
  }
 },
 "nbformat": 4,
 "nbformat_minor": 5
}
