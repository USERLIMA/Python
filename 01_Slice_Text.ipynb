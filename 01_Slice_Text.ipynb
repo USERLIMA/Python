{
 "cells": [
  {
   "cell_type": "markdown",
   "id": "b2de4ca6",
   "metadata": {},
   "source": [
    "# Fatiando textos"
   ]
  },
  {
   "cell_type": "code",
   "execution_count": 16,
   "id": "b7d42ac0",
   "metadata": {
    "scrolled": false
   },
   "outputs": [],
   "source": [
    "nome = 'Adriano Leite da Silva'"
   ]
  },
  {
   "cell_type": "code",
   "execution_count": 17,
   "id": "752b9200",
   "metadata": {
    "scrolled": false
   },
   "outputs": [
    {
     "data": {
      "text/plain": [
       "'Adriano Leite da Silva'"
      ]
     },
     "execution_count": 17,
     "metadata": {},
     "output_type": "execute_result"
    }
   ],
   "source": [
    "# Vamos começar a fatiar a variável nome\n",
    "nome # print(nome)"
   ]
  },
  {
   "cell_type": "markdown",
   "id": "7b816ebf",
   "metadata": {},
   "source": [
    "### Informações importantes\n",
    "\n",
    "- Sempre começamos a contagem da posição de uma variável/vetor/matriz/lista/tupla pela POSIÇÃO 0.\n",
    "- Caso eu deseje imprimir a ÚLTIMA POSIÇÃO DA MINHA VAR/MATRIZ/LISTA/TUPLA utilizo o -1"
   ]
  },
  {
   "cell_type": "code",
   "execution_count": 18,
   "id": "a4007913",
   "metadata": {
    "scrolled": false
   },
   "outputs": [
    {
     "data": {
      "text/plain": [
       "'A'"
      ]
     },
     "execution_count": 18,
     "metadata": {},
     "output_type": "execute_result"
    }
   ],
   "source": [
    "nome[0] # Imprimindo a primeira posição do nome"
   ]
  },
  {
   "cell_type": "code",
   "execution_count": 19,
   "id": "29bd65db",
   "metadata": {
    "scrolled": true
   },
   "outputs": [
    {
     "data": {
      "text/plain": [
       "'t'"
      ]
     },
     "execution_count": 19,
     "metadata": {},
     "output_type": "execute_result"
    }
   ],
   "source": [
    "nome[11] # Imprimindo a letra que se encontra na posição 11"
   ]
  },
  {
   "cell_type": "code",
   "execution_count": null,
   "id": "82d03a76",
   "metadata": {
    "scrolled": false
   },
   "outputs": [],
   "source": []
  }
 ],
 "metadata": {
  "kernelspec": {
   "display_name": "Python 3",
   "language": "python",
   "name": "python3"
  },
  "language_info": {
   "codemirror_mode": {
    "name": "ipython",
    "version": 3
   },
   "file_extension": ".py",
   "mimetype": "text/x-python",
   "name": "python",
   "nbconvert_exporter": "python",
   "pygments_lexer": "ipython3",
   "version": "3.8.8"
  }
 },
 "nbformat": 4,
 "nbformat_minor": 5
}
