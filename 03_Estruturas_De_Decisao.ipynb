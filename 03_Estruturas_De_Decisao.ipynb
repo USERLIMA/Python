{
 "cells": [
  {
   "cell_type": "markdown",
   "id": "f7b5d044",
   "metadata": {},
   "source": [
    "# Estruturas de Decisão\n",
    "\n",
    "- if test declaration:\n",
    "        - conjunto de instruções(c)\n",
    "    \n",
    "### Vamos praticar"
   ]
  },
  {
   "cell_type": "code",
   "execution_count": 1,
   "id": "79cd9153",
   "metadata": {},
   "outputs": [
    {
     "name": "stdout",
     "output_type": "stream",
     "text": [
      "o valor 1 informado é positivo!\n"
     ]
    }
   ],
   "source": [
    "numero = 1\n",
    "\n",
    "if numero > 0:\n",
    "    print(\"o valor {} informado é positivo!\".format(numero))"
   ]
  },
  {
   "cell_type": "code",
   "execution_count": 2,
   "id": "fdcb1d3b",
   "metadata": {},
   "outputs": [],
   "source": [
    "numero = -1\n",
    "\n",
    "if numero > 0:\n",
    "    print(\"o valor {} informado é positivo!\".format(numero))"
   ]
  },
  {
   "cell_type": "code",
   "execution_count": 3,
   "id": "c88c57cb",
   "metadata": {},
   "outputs": [],
   "source": [
    "# Sintaxe do IF\n",
    "\n",
    "# if (condição(teste)):\n",
    "#    bloco de comando"
   ]
  },
  {
   "cell_type": "code",
   "execution_count": 4,
   "id": "f7e014b5",
   "metadata": {},
   "outputs": [
    {
     "name": "stdout",
     "output_type": "stream",
     "text": [
      "Nomes iguais\n"
     ]
    }
   ],
   "source": [
    "nome = \"Adriano\"\n",
    "\n",
    "if nome == \"Adriano\":\n",
    "    print('Nomes iguais')"
   ]
  },
  {
   "cell_type": "markdown",
   "id": "621385d3",
   "metadata": {},
   "source": [
    "## If... else"
   ]
  },
  {
   "cell_type": "code",
   "execution_count": 5,
   "id": "7070cfa0",
   "metadata": {},
   "outputs": [
    {
     "name": "stdout",
     "output_type": "stream",
     "text": [
      "O valor 0 informado é positivo!\n"
     ]
    }
   ],
   "source": [
    "numero = 0\n",
    "\n",
    "if numero >= 0:\n",
    "    print(\"O valor {} informado é positivo!\".format(numero))\n",
    "else:\n",
    "    print(\"O valor {} informado é negativo!\".format(numero))"
   ]
  },
  {
   "cell_type": "code",
   "execution_count": 6,
   "id": "7671d628",
   "metadata": {},
   "outputs": [
    {
     "name": "stdout",
     "output_type": "stream",
     "text": [
      "Os Nomes não são iguais\n"
     ]
    }
   ],
   "source": [
    "nome = \"Adriano\"\n",
    "\n",
    "if nome == \"adriano\":\n",
    "    print('Nomes iguais')\n",
    "else:\n",
    "    print('Os Nomes não são iguais')"
   ]
  },
  {
   "cell_type": "code",
   "execution_count": 7,
   "id": "a8ab633b",
   "metadata": {},
   "outputs": [
    {
     "name": "stdout",
     "output_type": "stream",
     "text": [
      "O sexo informado foi o Feminino\n"
     ]
    }
   ],
   "source": [
    "sexo = 'F'\n",
    "\n",
    "if sexo == 'F':\n",
    "    print('O sexo informado foi o Feminino')\n",
    "elif sexo == 'M':\n",
    "    print('O sexo informado foi o Masculino')\n",
    "else:\n",
    "    print('Não registrado no sistema')"
   ]
  },
  {
   "cell_type": "markdown",
   "id": "63e82a8b",
   "metadata": {},
   "source": [
    "# Exercício 01"
   ]
  },
  {
   "cell_type": "code",
   "execution_count": null,
   "id": "eb1acecd",
   "metadata": {},
   "outputs": [],
   "source": []
  },
  {
   "cell_type": "markdown",
   "id": "211534c7",
   "metadata": {},
   "source": [
    "A partir da temperaturaInformada o sistema deve verificar se a pessoa está com febre ou não."
   ]
  },
  {
   "cell_type": "code",
   "execution_count": 8,
   "id": "4f9a65ac",
   "metadata": {},
   "outputs": [
    {
     "ename": "KeyboardInterrupt",
     "evalue": "Interrupted by user",
     "output_type": "error",
     "traceback": [
      "\u001b[1;31m---------------------------------------------------------------------------\u001b[0m",
      "\u001b[1;31mKeyboardInterrupt\u001b[0m                         Traceback (most recent call last)",
      "\u001b[1;32m<ipython-input-8-c5b36fceb9b1>\u001b[0m in \u001b[0;36m<module>\u001b[1;34m\u001b[0m\n\u001b[1;32m----> 1\u001b[1;33m \u001b[0mtemperaturaInformada\u001b[0m \u001b[1;33m=\u001b[0m \u001b[0mfloat\u001b[0m\u001b[1;33m(\u001b[0m\u001b[0minput\u001b[0m\u001b[1;33m(\u001b[0m\u001b[1;34m\"Digite a temperatura do paciente:\"\u001b[0m\u001b[1;33m)\u001b[0m\u001b[1;33m)\u001b[0m\u001b[1;33m\u001b[0m\u001b[1;33m\u001b[0m\u001b[0m\n\u001b[0m\u001b[0;32m      2\u001b[0m \u001b[1;33m\u001b[0m\u001b[0m\n\u001b[0;32m      3\u001b[0m \u001b[1;32mif\u001b[0m \u001b[0mtemperaturaInformada\u001b[0m \u001b[1;33m>\u001b[0m \u001b[1;36m37\u001b[0m\u001b[1;33m:\u001b[0m\u001b[1;33m\u001b[0m\u001b[1;33m\u001b[0m\u001b[0m\n\u001b[0;32m      4\u001b[0m     \u001b[0mprint\u001b[0m\u001b[1;33m(\u001b[0m\u001b[1;34m\"\\nO paciente está com febre!\"\u001b[0m\u001b[1;33m)\u001b[0m\u001b[1;33m\u001b[0m\u001b[1;33m\u001b[0m\u001b[0m\n\u001b[0;32m      5\u001b[0m \u001b[1;32melse\u001b[0m\u001b[1;33m:\u001b[0m\u001b[1;33m\u001b[0m\u001b[1;33m\u001b[0m\u001b[0m\n",
      "\u001b[1;32mC:\\ProgramData\\Anaconda3\\lib\\site-packages\\ipykernel\\kernelbase.py\u001b[0m in \u001b[0;36mraw_input\u001b[1;34m(self, prompt)\u001b[0m\n\u001b[0;32m    858\u001b[0m                 \u001b[1;34m\"raw_input was called, but this frontend does not support input requests.\"\u001b[0m\u001b[1;33m\u001b[0m\u001b[1;33m\u001b[0m\u001b[0m\n\u001b[0;32m    859\u001b[0m             )\n\u001b[1;32m--> 860\u001b[1;33m         return self._input_request(str(prompt),\n\u001b[0m\u001b[0;32m    861\u001b[0m             \u001b[0mself\u001b[0m\u001b[1;33m.\u001b[0m\u001b[0m_parent_ident\u001b[0m\u001b[1;33m,\u001b[0m\u001b[1;33m\u001b[0m\u001b[1;33m\u001b[0m\u001b[0m\n\u001b[0;32m    862\u001b[0m             \u001b[0mself\u001b[0m\u001b[1;33m.\u001b[0m\u001b[0m_parent_header\u001b[0m\u001b[1;33m,\u001b[0m\u001b[1;33m\u001b[0m\u001b[1;33m\u001b[0m\u001b[0m\n",
      "\u001b[1;32mC:\\ProgramData\\Anaconda3\\lib\\site-packages\\ipykernel\\kernelbase.py\u001b[0m in \u001b[0;36m_input_request\u001b[1;34m(self, prompt, ident, parent, password)\u001b[0m\n\u001b[0;32m    902\u001b[0m             \u001b[1;32mexcept\u001b[0m \u001b[0mKeyboardInterrupt\u001b[0m\u001b[1;33m:\u001b[0m\u001b[1;33m\u001b[0m\u001b[1;33m\u001b[0m\u001b[0m\n\u001b[0;32m    903\u001b[0m                 \u001b[1;31m# re-raise KeyboardInterrupt, to truncate traceback\u001b[0m\u001b[1;33m\u001b[0m\u001b[1;33m\u001b[0m\u001b[1;33m\u001b[0m\u001b[0m\n\u001b[1;32m--> 904\u001b[1;33m                 \u001b[1;32mraise\u001b[0m \u001b[0mKeyboardInterrupt\u001b[0m\u001b[1;33m(\u001b[0m\u001b[1;34m\"Interrupted by user\"\u001b[0m\u001b[1;33m)\u001b[0m \u001b[1;32mfrom\u001b[0m \u001b[1;32mNone\u001b[0m\u001b[1;33m\u001b[0m\u001b[1;33m\u001b[0m\u001b[0m\n\u001b[0m\u001b[0;32m    905\u001b[0m             \u001b[1;32mexcept\u001b[0m \u001b[0mException\u001b[0m \u001b[1;32mas\u001b[0m \u001b[0me\u001b[0m\u001b[1;33m:\u001b[0m\u001b[1;33m\u001b[0m\u001b[1;33m\u001b[0m\u001b[0m\n\u001b[0;32m    906\u001b[0m                 \u001b[0mself\u001b[0m\u001b[1;33m.\u001b[0m\u001b[0mlog\u001b[0m\u001b[1;33m.\u001b[0m\u001b[0mwarning\u001b[0m\u001b[1;33m(\u001b[0m\u001b[1;34m\"Invalid Message:\"\u001b[0m\u001b[1;33m,\u001b[0m \u001b[0mexc_info\u001b[0m\u001b[1;33m=\u001b[0m\u001b[1;32mTrue\u001b[0m\u001b[1;33m)\u001b[0m\u001b[1;33m\u001b[0m\u001b[1;33m\u001b[0m\u001b[0m\n",
      "\u001b[1;31mKeyboardInterrupt\u001b[0m: Interrupted by user"
     ]
    }
   ],
   "source": [
    "temperaturaInformada = float(input(\"Digite a temperatura do paciente:\"))\n",
    "\n",
    "if temperaturaInformada > 37:\n",
    "    print(\"\\nO paciente está com febre!\")\n",
    "else:\n",
    "    print(\"\\nO paciente não está com febre!\")"
   ]
  },
  {
   "cell_type": "markdown",
   "id": "a493e294",
   "metadata": {},
   "source": [
    "# Exercício\n",
    "\n",
    "Faça um programa que leia a idade de uma pessoa. Baseado no valor informado o sistema deve mostrar a seguinte mensagem.\n",
    "\n",
    "- Para menores de 12 anos deve-se mostrar a frase: Criança\n",
    "- Acima de 12 anos e menor que 18 anos deve-se mostrar: Adolescente\n",
    "- Maior que 18 anos e menor que 65 anos: Adulto\n",
    "- Maior que 65 anos: Idoso\n",
    "\n",
    "- idade < 12 = Criança\n",
    "- idade > 12 & idade < 18: = Adolescente\n",
    "- idade > 18 e idade < 65 = Adulto\n",
    "- idade > 65 = Idoso\n",
    "\n",
    "if idade < 12:\n",
    "    print(________)\n",
    "elif idade > 12 & idade < 18:\n",
    "    print(________)"
   ]
  },
  {
   "cell_type": "code",
   "execution_count": null,
   "id": "c6f07f6d",
   "metadata": {},
   "outputs": [],
   "source": [
    "idade = int(input(\"Digite a idade: \"))\n",
    "\n",
    "if idade < 12:\n",
    "    print(\"Criança!\")\n",
    "elif (idade >= 12) and (idade < 18):\n",
    "    print(\"Adolescente!\")\n",
    "elif (idade >= 18) and (idade < 65):\n",
    "    print(\"Adulto!\")\n",
    "else:\n",
    "    print(\"Idoso!\")    "
   ]
  },
  {
   "cell_type": "markdown",
   "id": "19691f7a",
   "metadata": {},
   "source": [
    "## Exercício 03\n",
    "\n",
    "Faça um algoritmo que receba um valor digitado pelo usuário, verifique o valor informado e me diga se:\n",
    "\n",
    "- Maior que zero, número positivo\n",
    "- Igual a zero, número neutro\n",
    "- Menor que zero, número negativo"
   ]
  },
  {
   "cell_type": "code",
   "execution_count": null,
   "id": "64f1e8ed",
   "metadata": {},
   "outputs": [],
   "source": [
    "numeroDig = float(input(\"Digite um número:\"))\n",
    "\n",
    "if numeroDig > 0:\n",
    "    print(\"Número Positivo!\")\n",
    "elif numeroDig == 0:\n",
    "    print(\"Número Neutro!\")\n",
    "else:\n",
    "    print(\"Número Negativo!\")"
   ]
  },
  {
   "cell_type": "code",
   "execution_count": null,
   "id": "5fb321b0",
   "metadata": {},
   "outputs": [],
   "source": [
    "numeroDois = 1\n",
    "\n",
    "numeroDois += 9 # numeroDois = numeroDois + 9\n",
    "# numeroDois = 1\n",
    "# numeroDois = 1 + 9\n",
    "#numeroDois = 10 + 100\n",
    "\n",
    "numeroDois += 100"
   ]
  },
  {
   "cell_type": "code",
   "execution_count": null,
   "id": "a5406d4e",
   "metadata": {},
   "outputs": [],
   "source": [
    "print(numeroDois)"
   ]
  },
  {
   "cell_type": "markdown",
   "id": "26967f4f",
   "metadata": {},
   "source": [
    "# Exercício de Revisão\n",
    "\n",
    "Escreva um algoritmo que receba 3 valores, e indique qual o maior!"
   ]
  },
  {
   "cell_type": "code",
   "execution_count": 9,
   "id": "91320dbd",
   "metadata": {},
   "outputs": [
    {
     "name": "stdout",
     "output_type": "stream",
     "text": [
      "Digite o primeiro valor:12\n",
      "Digite o segundo valor:2\n",
      "Digite o terceiro valor:4\n"
     ]
    }
   ],
   "source": [
    "valorUm = int(input(\"Digite o primeiro valor:\"))\n",
    "valorDois = int(input(\"Digite o segundo valor:\"))\n",
    "valorTres = int(input(\"Digite o terceiro valor:\"))"
   ]
  },
  {
   "cell_type": "markdown",
   "id": "bbb8c5dd",
   "metadata": {},
   "source": [
    "### Verificações que precisam ser feitas\n",
    "\n",
    "- if = valorUm maior que valorDois e maior que valorTres\n",
    "    - Valor Um {} é maior que os demais\n",
    "- elif = valorDois maior que valorUm e maior que valorTres\n",
    "    - Valor Dois {} é maior que os demais\n",
    "- elif = valorTres maiorq ue valorUm e maior que valorDois\n",
    "    - Valor Tres {} é maior que os demais\n",
    "- else = valores iguais\n",
    "    - Valores iguais"
   ]
  },
  {
   "cell_type": "code",
   "execution_count": null,
   "id": "c0795e45",
   "metadata": {},
   "outputs": [],
   "source": []
  },
  {
   "cell_type": "code",
   "execution_count": null,
   "id": "37249cd0",
   "metadata": {},
   "outputs": [],
   "source": []
  }
 ],
 "metadata": {
  "kernelspec": {
   "display_name": "Python 3",
   "language": "python",
   "name": "python3"
  },
  "language_info": {
   "codemirror_mode": {
    "name": "ipython",
    "version": 3
   },
   "file_extension": ".py",
   "mimetype": "text/x-python",
   "name": "python",
   "nbconvert_exporter": "python",
   "pygments_lexer": "ipython3",
   "version": "3.8.8"
  }
 },
 "nbformat": 4,
 "nbformat_minor": 5
}
