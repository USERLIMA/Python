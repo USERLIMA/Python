{
 "cells": [
  {
   "cell_type": "markdown",
   "id": "9d4e76fe",
   "metadata": {},
   "source": [
    "# Primeira Aplicação WebScraping\n",
    "\n",
    "### TODO List\n",
    "\n",
    "- 1 - Importar as libs\n",
    "- 2 - Validar a URL dos filmes\n",
    "- 3 - Extrair os dados do site\n",
    "- 4 - Transferir os dados para um DataSet\n",
    "- 5 - Salvar os dados em um arquivo CSV ou XLSX"
   ]
  },
  {
   "cell_type": "code",
   "execution_count": 1,
   "id": "655ed600",
   "metadata": {},
   "outputs": [],
   "source": [
    "# 1 - Importando as Libs\n",
    "import pandas as pd # Criar o dataset\n",
    "from urllib.request import urlopen # Ler a url e o seu conteúdo\n",
    "from urllib.error import HTTPError\n",
    "from urllib.error import URLError\n",
    "from bs4 import BeautifulSoup"
   ]
  },
  {
   "cell_type": "code",
   "execution_count": 3,
   "id": "d2e65dc9",
   "metadata": {},
   "outputs": [],
   "source": [
    "# 2 - Validar a URL\n",
    "filmesCaminho = 'https://www.imdb.com/chart/top/'\n",
    "\n",
    "try:\n",
    "    html = urlopen(filmesCaminho)\n",
    "except HTTPError as e:\n",
    "    # Erros de HTTP\n",
    "    print(e)\n",
    "except URLError as e:\n",
    "    # URL Incorreta\n",
    "    print('URL está incorreta!')"
   ]
  },
  {
   "cell_type": "code",
   "execution_count": 13,
   "id": "50f8c600",
   "metadata": {},
   "outputs": [],
   "source": [
    "# 3 - Extrair os dados do site\n",
    "\n",
    "# Criando a instância(apelido de uma lib ou elemento)\n",
    "bs = BeautifulSoup(html, 'lxml')\n",
    "\n",
    "movies = bs.select('.lister-list tr') \n",
    "# Lister list - lista de filmes\n",
    "# Componente do site\n",
    "# TR = Table Row - linha da Tabela\n",
    "\n",
    "\n",
    "# Preenchendo as lista com os dados\n",
    "for movie in movies:\n",
    "    titles.append(movie.find('td', class_='titleColumn').find('a').get_text())\n",
    "    directors_writers.append(movie.find('td', class_='titleColumn').find('a')['title'])\n",
    "    years.append(movie.find('td', class_='titleColumn').find('span').get_text()[1:5])\n",
    "    ratings.append(movie.find('td', class_='imdbRating').find('strong').get_text())\n",
    "    \n",
    "# Convertendo os dados para um DataFrame\n",
    "df = pd.DataFrame({\"titulo\":titles, \n",
    "                   \"ano de lançamento\":years, \n",
    "                   \"classificação\": ratings, \n",
    "                   \"diretores e roteiristas\":directors_writers\n",
    "                  })"
   ]
  },
  {
   "cell_type": "code",
   "execution_count": 14,
   "id": "201587cb",
   "metadata": {},
   "outputs": [],
   "source": [
    "# Criar as listas aonde iremos armazenar os dados\n",
    "titles = []\n",
    "directors_writers = []\n",
    "years = []\n",
    "ratings = []\n"
   ]
  },
  {
   "cell_type": "code",
   "execution_count": null,
   "id": "50911358",
   "metadata": {},
   "outputs": [],
   "source": []
  },
  {
   "cell_type": "code",
   "execution_count": 12,
   "id": "fe46e14e",
   "metadata": {},
   "outputs": [
    {
     "data": {
      "text/html": [
       "<div>\n",
       "<style scoped>\n",
       "    .dataframe tbody tr th:only-of-type {\n",
       "        vertical-align: middle;\n",
       "    }\n",
       "\n",
       "    .dataframe tbody tr th {\n",
       "        vertical-align: top;\n",
       "    }\n",
       "\n",
       "    .dataframe thead th {\n",
       "        text-align: right;\n",
       "    }\n",
       "</style>\n",
       "<table border=\"1\" class=\"dataframe\">\n",
       "  <thead>\n",
       "    <tr style=\"text-align: right;\">\n",
       "      <th></th>\n",
       "      <th>titulo</th>\n",
       "      <th>ano de lançamento</th>\n",
       "      <th>classificação</th>\n",
       "      <th>diretores e roteiristas</th>\n",
       "    </tr>\n",
       "  </thead>\n",
       "  <tbody>\n",
       "  </tbody>\n",
       "</table>\n",
       "</div>"
      ],
      "text/plain": [
       "Empty DataFrame\n",
       "Columns: [titulo, ano de lançamento, classificação, diretores e roteiristas]\n",
       "Index: []"
      ]
     },
     "execution_count": 12,
     "metadata": {},
     "output_type": "execute_result"
    }
   ],
   "source": [
    "df.head()"
   ]
  },
  {
   "cell_type": "code",
   "execution_count": null,
   "id": "def83f27",
   "metadata": {},
   "outputs": [],
   "source": []
  }
 ],
 "metadata": {
  "kernelspec": {
   "display_name": "Python 3",
   "language": "python",
   "name": "python3"
  },
  "language_info": {
   "codemirror_mode": {
    "name": "ipython",
    "version": 3
   },
   "file_extension": ".py",
   "mimetype": "text/x-python",
   "name": "python",
   "nbconvert_exporter": "python",
   "pygments_lexer": "ipython3",
   "version": "3.8.8"
  }
 },
 "nbformat": 4,
 "nbformat_minor": 5
}
