{
 "cells": [
  {
   "cell_type": "markdown",
   "id": "198c4921",
   "metadata": {},
   "source": [
    "# Exercícios\n",
    "\n",
    "### Download dos CSVs\n",
    "\n",
    "- Faça o download dos arquivos ps4_sales.csv e xbosx_one_sales.csv no drive da turma.\n",
    "\n",
    "### Após o Download\n",
    "\n",
    "- Crie um notebook para cada um desses dados.\n",
    " - Ou Seja, 1 notebook chamado PS4 e outro chamado Xbox\n",
    "\n",
    "### Na sequência\n",
    "\n",
    "- Faça o import das libs: Pandas, Numpy, Matplotlib.pyplot e Seaborn\n",
    "- Faça a leitura dos arquivos\n",
    "- Faça a análise inicial que sempre fazemos em aula\n",
    "    - Utilize os comandos info, head(15), describe, shape"
   ]
  },
  {
   "cell_type": "code",
   "execution_count": null,
   "id": "b61cf03f",
   "metadata": {},
   "outputs": [],
   "source": []
  }
 ],
 "metadata": {
  "kernelspec": {
   "display_name": "Python 3",
   "language": "python",
   "name": "python3"
  },
  "language_info": {
   "codemirror_mode": {
    "name": "ipython",
    "version": 3
   },
   "file_extension": ".py",
   "mimetype": "text/x-python",
   "name": "python",
   "nbconvert_exporter": "python",
   "pygments_lexer": "ipython3",
   "version": "3.8.8"
  }
 },
 "nbformat": 4,
 "nbformat_minor": 5
}
