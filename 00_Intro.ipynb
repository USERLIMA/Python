{
 "cells": [
  {
   "cell_type": "markdown",
   "id": "f1ca702b",
   "metadata": {},
   "source": [
    "## Curso de Python\n",
    "\n",
    "Variáveis"
   ]
  },
  {
   "cell_type": "code",
   "execution_count": 1,
   "id": "d758397a",
   "metadata": {},
   "outputs": [],
   "source": [
    "nome = 'Adriano'\n",
    "sobrenome = 'Leite da Silva'\n",
    "idade = '32'\n",
    "email = \"adrianoleitedasilva@outlook.com\""
   ]
  },
  {
   "cell_type": "code",
   "execution_count": 2,
   "id": "2ad4bea1",
   "metadata": {},
   "outputs": [
    {
     "name": "stdout",
     "output_type": "stream",
     "text": [
      "Adriano\n"
     ]
    }
   ],
   "source": [
    "print(nome)"
   ]
  },
  {
   "cell_type": "code",
   "execution_count": 3,
   "id": "ee7c65d9",
   "metadata": {},
   "outputs": [
    {
     "name": "stdout",
     "output_type": "stream",
     "text": [
      "Leite da Silva\n"
     ]
    }
   ],
   "source": [
    "print(sobrenome)"
   ]
  },
  {
   "cell_type": "markdown",
   "id": "b97d11e4",
   "metadata": {},
   "source": [
    "Imprimindo meu nome completo\n",
    "\n",
    "Eu tenho duas formas de fazer isso, utilizando o símbolo \"+\" ou \",\""
   ]
  },
  {
   "cell_type": "code",
   "execution_count": 4,
   "id": "956170ff",
   "metadata": {},
   "outputs": [
    {
     "name": "stdout",
     "output_type": "stream",
     "text": [
      "Adriano Leite da Silva\n"
     ]
    }
   ],
   "source": [
    "print(nome, sobrenome)"
   ]
  },
  {
   "cell_type": "code",
   "execution_count": 5,
   "id": "13f36a4a",
   "metadata": {},
   "outputs": [
    {
     "name": "stdout",
     "output_type": "stream",
     "text": [
      "AdrianoLeite da Silva\n"
     ]
    }
   ],
   "source": [
    "print(nome + sobrenome)"
   ]
  },
  {
   "cell_type": "code",
   "execution_count": 6,
   "id": "8cb74839",
   "metadata": {},
   "outputs": [
    {
     "name": "stdout",
     "output_type": "stream",
     "text": [
      "Adriano Leite da Silva\n"
     ]
    }
   ],
   "source": [
    "print(nome + \" \" + sobrenome)"
   ]
  },
  {
   "cell_type": "markdown",
   "id": "55fa64a1",
   "metadata": {},
   "source": [
    "Olá, meu nome é ________________ e tenho ____ anos de idade!"
   ]
  },
  {
   "cell_type": "code",
   "execution_count": 7,
   "id": "f3e0e4f6",
   "metadata": {},
   "outputs": [
    {
     "name": "stdout",
     "output_type": "stream",
     "text": [
      "Olá, meu nome é Adriano Leite da Silva e tenho 32 anos de idade!E meu email é adrianoleitedasilva@outlook.com\n"
     ]
    }
   ],
   "source": [
    "print('Olá, meu nome é ' + nome + \" \" + sobrenome + ' e tenho ' + idade\n",
    "     + ' anos de idade!E meu email é ' + email )"
   ]
  },
  {
   "cell_type": "code",
   "execution_count": 8,
   "id": "d6f6935e",
   "metadata": {},
   "outputs": [
    {
     "name": "stdout",
     "output_type": "stream",
     "text": [
      "Olá, meu nome é  Adriano Leite da Silva e tenho  32  anos de idade! E meu email é adrianoleitedasilva@outlook.com\n"
     ]
    }
   ],
   "source": [
    "nome = 'Adriano'\n",
    "sobrenome = 'Leite da Silva'\n",
    "idade = 32\n",
    "email = \"adrianoleitedasilva@outlook.com\"\n",
    "\n",
    "print('Olá, meu nome é ', nome , sobrenome,  'e tenho ', idade,  ' anos de idade! E meu email é', email)"
   ]
  },
  {
   "cell_type": "code",
   "execution_count": 9,
   "id": "ebac32f3",
   "metadata": {},
   "outputs": [
    {
     "name": "stdout",
     "output_type": "stream",
     "text": [
      "caixa d'agua\n",
      "caixa d'agua\n"
     ]
    }
   ],
   "source": [
    "elemento = 'caixa d\\'agua'\n",
    "elementooo = \"caixa d'agua\"\n",
    "\n",
    "print(elemento)\n",
    "print(elementooo)"
   ]
  },
  {
   "cell_type": "markdown",
   "id": "07b9168b",
   "metadata": {},
   "source": [
    "### Operações Aritméticas"
   ]
  },
  {
   "cell_type": "code",
   "execution_count": 10,
   "id": "1aea724a",
   "metadata": {},
   "outputs": [
    {
     "name": "stdout",
     "output_type": "stream",
     "text": [
      "A soma dos valores é de: 21\n",
      "A subtração dos valores é de: -1\n",
      "A divisão dos valores é de: 0.9090909090909091\n",
      "A multiplicação dos valores é de: 110\n",
      "O resto da divisão dos valores é de:  10\n"
     ]
    }
   ],
   "source": [
    "# Declarando as minhas variáveis\n",
    "a = 10\n",
    "b = 11\n",
    "\n",
    "print('A soma dos valores é de:', a + b)\n",
    "print('A subtração dos valores é de:', a - b)\n",
    "print('A divisão dos valores é de:', a / b)\n",
    "print('A multiplicação dos valores é de:', a * b)\n",
    "print('O resto da divisão dos valores é de: ', a % b) # quoeficiente"
   ]
  },
  {
   "cell_type": "markdown",
   "id": "b3b862c3",
   "metadata": {},
   "source": [
    "### Exercício 01 - Calculadora"
   ]
  },
  {
   "cell_type": "code",
   "execution_count": 11,
   "id": "5dce73f1",
   "metadata": {
    "scrolled": true
   },
   "outputs": [
    {
     "name": "stdout",
     "output_type": "stream",
     "text": [
      "-=-=-= CalculaTrainning =-=-=-\n",
      "------------------------------\n"
     ]
    },
    {
     "ename": "ValueError",
     "evalue": "invalid literal for int() with base 10: ''",
     "output_type": "error",
     "traceback": [
      "\u001b[1;31m---------------------------------------------------------------------------\u001b[0m",
      "\u001b[1;31mValueError\u001b[0m                                Traceback (most recent call last)",
      "\u001b[1;32m~\\AppData\\Local\\Temp/ipykernel_6328/309094453.py\u001b[0m in \u001b[0;36m<module>\u001b[1;34m\u001b[0m\n\u001b[0;32m      3\u001b[0m \u001b[1;33m\u001b[0m\u001b[0m\n\u001b[0;32m      4\u001b[0m \u001b[1;31m# Atribuindo os valores que o usuário digitar\u001b[0m\u001b[1;33m\u001b[0m\u001b[1;33m\u001b[0m\u001b[0m\n\u001b[1;32m----> 5\u001b[1;33m \u001b[0mvalorUm\u001b[0m \u001b[1;33m=\u001b[0m \u001b[0mint\u001b[0m\u001b[1;33m(\u001b[0m\u001b[0minput\u001b[0m\u001b[1;33m(\u001b[0m\u001b[1;34m'Digite o 1º Valor: '\u001b[0m\u001b[1;33m)\u001b[0m\u001b[1;33m)\u001b[0m\u001b[1;33m\u001b[0m\u001b[1;33m\u001b[0m\u001b[0m\n\u001b[0m\u001b[0;32m      6\u001b[0m \u001b[0mvalorDois\u001b[0m \u001b[1;33m=\u001b[0m \u001b[0mint\u001b[0m\u001b[1;33m(\u001b[0m\u001b[0minput\u001b[0m\u001b[1;33m(\u001b[0m\u001b[1;34m'Digite o 2º Valor: '\u001b[0m\u001b[1;33m)\u001b[0m\u001b[1;33m)\u001b[0m\u001b[1;33m\u001b[0m\u001b[1;33m\u001b[0m\u001b[0m\n\u001b[0;32m      7\u001b[0m \u001b[1;33m\u001b[0m\u001b[0m\n",
      "\u001b[1;31mValueError\u001b[0m: invalid literal for int() with base 10: ''"
     ]
    }
   ],
   "source": [
    "print('-=-=-= CalculaTrainning =-=-=-')\n",
    "print('------------------------------')\n",
    "\n",
    "# Atribuindo os valores que o usuário digitar\n",
    "valorUm = int(input('Digite o 1º Valor: '))\n",
    "valorDois = int(input('Digite o 2º Valor: '))\n",
    "\n",
    "# Realizando as operações\n",
    "soma = valorUm + valorDois\n",
    "subtra = valorUm - valorDois\n",
    "multi = valorUm * valorDois\n",
    "divi = valorUm / valorDois\n",
    "\n",
    "# Fazer a impressão da operação e resultado\n",
    "print('{} + {} = {}'.format(valorUm, valorDois, soma))\n",
    "print('{} - {} = {}'.format(valorUm, valorDois, subtra))\n",
    "print('{} x {} = {}'.format(valorUm, valorDois, multi))\n",
    "print('{} : {} = {}'.format(valorUm, valorDois, divi))"
   ]
  },
  {
   "cell_type": "markdown",
   "id": "bdd8eb63",
   "metadata": {},
   "source": [
    "### Exemplo 02\n",
    "\n",
    "Vamos solicitar ao nosso usuário que ele digite o nome completo, idade e email.\n",
    "\n",
    "Depois vamos apresentar os dados informados utilizando o format e uma frase pré-determinada."
   ]
  },
  {
   "cell_type": "code",
   "execution_count": null,
   "id": "d47c94d3",
   "metadata": {
    "scrolled": true
   },
   "outputs": [
    {
     "name": "stdout",
     "output_type": "stream",
     "text": [
      "Digite o seu nome: Adriano\n",
      "Digite a sua idade: 32\n",
      "Digite o seu email: adrianoleitedasilva@outlook.com\n",
      "\n",
      "Informações digitadas:\n",
      "\n",
      "O nome informado foi: Adriano, que alega ter 32 anos de idade e tem o email adrianoleitedasilva@outlook.com\n"
     ]
    }
   ],
   "source": [
    "# Solicitando que o usuário digite e armazenando nas vars\n",
    "nome = input('Digite o seu nome: ')\n",
    "idade = input('Digite a sua idade: ')\n",
    "email = input('Digite o seu email: ')\n",
    "\n",
    "# Apresentando as informações ao usuário\n",
    "print('\\nInformações digitadas:\\n')\n",
    "print('O nome informado foi: {}, que alega ter {} anos de idade e tem o email {}'.format(nome, idade, email))"
   ]
  },
  {
   "cell_type": "markdown",
   "id": "3623dc7c",
   "metadata": {},
   "source": [
    "## Operadores Relacionas"
   ]
  },
  {
   "cell_type": "code",
   "execution_count": null,
   "id": "399d35f7",
   "metadata": {},
   "outputs": [
    {
     "data": {
      "text/plain": [
       "True"
      ]
     },
     "execution_count": 13,
     "metadata": {},
     "output_type": "execute_result"
    }
   ],
   "source": [
    "10 < 11 # Dez é menor que 11?"
   ]
  },
  {
   "cell_type": "code",
   "execution_count": null,
   "id": "65b55988",
   "metadata": {},
   "outputs": [
    {
     "data": {
      "text/plain": [
       "False"
      ]
     },
     "execution_count": 14,
     "metadata": {},
     "output_type": "execute_result"
    }
   ],
   "source": [
    "1 > 2 # Um é maior que 2?"
   ]
  },
  {
   "cell_type": "code",
   "execution_count": null,
   "id": "fc9d85c6",
   "metadata": {},
   "outputs": [
    {
     "data": {
      "text/plain": [
       "True"
      ]
     },
     "execution_count": 15,
     "metadata": {},
     "output_type": "execute_result"
    }
   ],
   "source": [
    "11 <= 11 # Dez é menor ou igual a 11?"
   ]
  },
  {
   "cell_type": "code",
   "execution_count": null,
   "id": "6aa0f86f",
   "metadata": {},
   "outputs": [
    {
     "data": {
      "text/plain": [
       "False"
      ]
     },
     "execution_count": 16,
     "metadata": {},
     "output_type": "execute_result"
    }
   ],
   "source": [
    "10 >= 11 # Dez é maior ou igual a 11?"
   ]
  },
  {
   "cell_type": "code",
   "execution_count": null,
   "id": "09a3dbf0",
   "metadata": {},
   "outputs": [
    {
     "data": {
      "text/plain": [
       "True"
      ]
     },
     "execution_count": 17,
     "metadata": {},
     "output_type": "execute_result"
    }
   ],
   "source": [
    " 3 != 12 # Três é diferente de 2?"
   ]
  },
  {
   "cell_type": "code",
   "execution_count": null,
   "id": "3847ff99",
   "metadata": {},
   "outputs": [
    {
     "data": {
      "text/plain": [
       "True"
      ]
     },
     "execution_count": 18,
     "metadata": {},
     "output_type": "execute_result"
    }
   ],
   "source": [
    "3 == 3 # Três é igual a 3?"
   ]
  },
  {
   "cell_type": "markdown",
   "id": "438f2514",
   "metadata": {},
   "source": [
    "### Exercício 03\n",
    "\n",
    "Crie um algoritmo que leia o nome de uma pessoa e apresente a seguinte mensagem:\n",
    "\n",
    "Olá ______________, boa noite! Hoje é o dia 09/09/2021."
   ]
  },
  {
   "cell_type": "code",
   "execution_count": null,
   "id": "6afe13ea",
   "metadata": {},
   "outputs": [
    {
     "name": "stdout",
     "output_type": "stream",
     "text": [
      "Digite o seu nome: Adriano\n",
      "Olá Adriano, boa noite! Hoje é o dia 2021-09-09.\n"
     ]
    }
   ],
   "source": [
    "## Bonus\n",
    "# Importando a lib(biblioteca) para pegar a data\n",
    "from datetime import date # datetime\n",
    "\n",
    "hoje = date.today() # Criei a var hoje para armazenar a data de hoje\n",
    "# datetime.now() data atual + hora + minuto + segundos + ms\n",
    "nome = input('Digite o seu nome: ')\n",
    "\n",
    "print('Olá {}, boa noite! Hoje é o dia {}.'.format(nome, hoje))"
   ]
  },
  {
   "cell_type": "code",
   "execution_count": null,
   "id": "3f5e6428",
   "metadata": {},
   "outputs": [],
   "source": []
  }
 ],
 "metadata": {
  "kernelspec": {
   "display_name": "Python 3",
   "language": "python",
   "name": "python3"
  },
  "language_info": {
   "codemirror_mode": {
    "name": "ipython",
    "version": 3
   },
   "file_extension": ".py",
   "mimetype": "text/x-python",
   "name": "python",
   "nbconvert_exporter": "python",
   "pygments_lexer": "ipython3",
   "version": "3.9.9"
  }
 },
 "nbformat": 4,
 "nbformat_minor": 5
}
