{
 "cells": [
  {
   "cell_type": "markdown",
   "id": "24ead4fa",
   "metadata": {},
   "source": [
    "# Primeira Aplicação WebScraping\n",
    "\n",
    "### TODO List\n",
    "\n",
    "- 1 - Importar as libs\n",
    "- 2 - Validar a URL dos filmes\n",
    "- 3 - Extrair os dados do site\n",
    "- 4 - Transferir os dados para um DataSet\n",
    "- 5 - Salvar os dados em um arquivo CSV ou XLSX"
   ]
  },
  {
   "cell_type": "code",
   "execution_count": 1,
   "id": "4aeffd74",
   "metadata": {},
   "outputs": [],
   "source": [
    "# 1 - Importando as Libs\n",
    "import pandas as pd # Criar o dataset\n",
    "from urllib.request import urlopen # Ler a url e o seu conteúdo\n",
    "from urllib.error import HTTPError\n",
    "from urllib.error import URLError\n",
    "from bs4 import BeautifulSoup"
   ]
  },
  {
   "cell_type": "code",
   "execution_count": 2,
   "id": "5fc3998e",
   "metadata": {},
   "outputs": [],
   "source": [
    "# 2 - Validar a URL\n",
    "filmesCaminho = 'https://www.imdb.com/chart/top/'\n",
    "\n",
    "try:\n",
    "    html = urlopen(filmesCaminho)\n",
    "except HTTPError as e:\n",
    "    # Erros de HTTP\n",
    "    print(e)\n",
    "except URLError as e:\n",
    "    # URL Incorreta\n",
    "    print('URL está incorreta!')"
   ]
  },
  {
   "cell_type": "code",
   "execution_count": 3,
   "id": "dad68b59",
   "metadata": {},
   "outputs": [],
   "source": [
    "# 3 - Extrair os dados do site\n",
    "\n",
    "# Criando a instância(apelido de uma lib ou elemento)\n",
    "bs = BeautifulSoup(html, 'lxml')\n",
    "\n",
    "movies = bs.select('.lister-list tr') \n",
    "# Lister list - lista de filmes\n",
    "# Componente do site\n",
    "# TR = Table Row - linha da Tabela"
   ]
  },
  {
   "cell_type": "code",
   "execution_count": 4,
   "id": "75180544",
   "metadata": {},
   "outputs": [],
   "source": [
    "# Criar as listas aonde iremos armazenar os dados\n",
    "titles = []\n",
    "directors_writers = []\n",
    "years = []\n",
    "ratings = []"
   ]
  },
  {
   "cell_type": "code",
   "execution_count": 5,
   "id": "b22e58a6",
   "metadata": {},
   "outputs": [],
   "source": [
    "# Preenchendo as lista com os dados\n",
    "for movie in movies:\n",
    "    titles.append(movie.find('td', class_='titleColumn').find('a').get_text())\n",
    "    directors_writers.append(movie.find('td', class_='titleColumn').find('a')['title'])\n",
    "    years.append(movie.find('td', class_='titleColumn').find('span').get_text()[1:5])\n",
    "    ratings.append(movie.find('td', class_='imdbRating').find('strong').get_text())"
   ]
  },
  {
   "cell_type": "code",
   "execution_count": 8,
   "id": "2a1692cd",
   "metadata": {},
   "outputs": [],
   "source": [
    "# 4 - Transferir os dados para um DataSet\n",
    "df = pd.DataFrame({\"titulo\":titles, \n",
    "                   \"ano de lançamento\":years, \n",
    "                   \"classificação\": ratings, \n",
    "                   \"diretores e roteiristas\":directors_writers\n",
    "                  })"
   ]
  },
  {
   "cell_type": "code",
   "execution_count": 9,
   "id": "c036fdfe",
   "metadata": {},
   "outputs": [
    {
     "data": {
      "text/html": [
       "<div>\n",
       "<style scoped>\n",
       "    .dataframe tbody tr th:only-of-type {\n",
       "        vertical-align: middle;\n",
       "    }\n",
       "\n",
       "    .dataframe tbody tr th {\n",
       "        vertical-align: top;\n",
       "    }\n",
       "\n",
       "    .dataframe thead th {\n",
       "        text-align: right;\n",
       "    }\n",
       "</style>\n",
       "<table border=\"1\" class=\"dataframe\">\n",
       "  <thead>\n",
       "    <tr style=\"text-align: right;\">\n",
       "      <th></th>\n",
       "      <th>titulo</th>\n",
       "      <th>ano de lançamento</th>\n",
       "      <th>classificação</th>\n",
       "      <th>diretores e roteiristas</th>\n",
       "    </tr>\n",
       "  </thead>\n",
       "  <tbody>\n",
       "    <tr>\n",
       "      <th>0</th>\n",
       "      <td>Um Sonho de Liberdade</td>\n",
       "      <td>1994</td>\n",
       "      <td>9.2</td>\n",
       "      <td>Frank Darabont (dir.), Tim Robbins, Morgan Fre...</td>\n",
       "    </tr>\n",
       "    <tr>\n",
       "      <th>1</th>\n",
       "      <td>O Poderoso Chefão</td>\n",
       "      <td>1972</td>\n",
       "      <td>9.1</td>\n",
       "      <td>Francis Ford Coppola (dir.), Marlon Brando, Al...</td>\n",
       "    </tr>\n",
       "    <tr>\n",
       "      <th>2</th>\n",
       "      <td>O Poderoso Chefão II</td>\n",
       "      <td>1974</td>\n",
       "      <td>9.0</td>\n",
       "      <td>Francis Ford Coppola (dir.), Al Pacino, Robert...</td>\n",
       "    </tr>\n",
       "    <tr>\n",
       "      <th>3</th>\n",
       "      <td>Batman: O Cavaleiro das Trevas</td>\n",
       "      <td>2008</td>\n",
       "      <td>9.0</td>\n",
       "      <td>Christopher Nolan (dir.), Christian Bale, Heat...</td>\n",
       "    </tr>\n",
       "    <tr>\n",
       "      <th>4</th>\n",
       "      <td>12 Homens e uma Sentença</td>\n",
       "      <td>1957</td>\n",
       "      <td>8.9</td>\n",
       "      <td>Sidney Lumet (dir.), Henry Fonda, Lee J. Cobb</td>\n",
       "    </tr>\n",
       "    <tr>\n",
       "      <th>5</th>\n",
       "      <td>A Lista de Schindler</td>\n",
       "      <td>1993</td>\n",
       "      <td>8.9</td>\n",
       "      <td>Steven Spielberg (dir.), Liam Neeson, Ralph Fi...</td>\n",
       "    </tr>\n",
       "    <tr>\n",
       "      <th>6</th>\n",
       "      <td>O Senhor dos Anéis: O Retorno do Rei</td>\n",
       "      <td>2003</td>\n",
       "      <td>8.9</td>\n",
       "      <td>Peter Jackson (dir.), Elijah Wood, Viggo Morte...</td>\n",
       "    </tr>\n",
       "    <tr>\n",
       "      <th>7</th>\n",
       "      <td>Pulp Fiction: Tempo de Violência</td>\n",
       "      <td>1994</td>\n",
       "      <td>8.8</td>\n",
       "      <td>Quentin Tarantino (dir.), John Travolta, Uma T...</td>\n",
       "    </tr>\n",
       "    <tr>\n",
       "      <th>8</th>\n",
       "      <td>Três Homens em Conflito</td>\n",
       "      <td>1966</td>\n",
       "      <td>8.8</td>\n",
       "      <td>Sergio Leone (dir.), Clint Eastwood, Eli Wallach</td>\n",
       "    </tr>\n",
       "    <tr>\n",
       "      <th>9</th>\n",
       "      <td>O Senhor dos Anéis: A Sociedade do Anel</td>\n",
       "      <td>2001</td>\n",
       "      <td>8.8</td>\n",
       "      <td>Peter Jackson (dir.), Elijah Wood, Ian McKellen</td>\n",
       "    </tr>\n",
       "  </tbody>\n",
       "</table>\n",
       "</div>"
      ],
      "text/plain": [
       "                                    titulo ano de lançamento classificação  \\\n",
       "0                    Um Sonho de Liberdade              1994           9.2   \n",
       "1                        O Poderoso Chefão              1972           9.1   \n",
       "2                     O Poderoso Chefão II              1974           9.0   \n",
       "3           Batman: O Cavaleiro das Trevas              2008           9.0   \n",
       "4                 12 Homens e uma Sentença              1957           8.9   \n",
       "5                     A Lista de Schindler              1993           8.9   \n",
       "6     O Senhor dos Anéis: O Retorno do Rei              2003           8.9   \n",
       "7         Pulp Fiction: Tempo de Violência              1994           8.8   \n",
       "8                  Três Homens em Conflito              1966           8.8   \n",
       "9  O Senhor dos Anéis: A Sociedade do Anel              2001           8.8   \n",
       "\n",
       "                             diretores e roteiristas  \n",
       "0  Frank Darabont (dir.), Tim Robbins, Morgan Fre...  \n",
       "1  Francis Ford Coppola (dir.), Marlon Brando, Al...  \n",
       "2  Francis Ford Coppola (dir.), Al Pacino, Robert...  \n",
       "3  Christopher Nolan (dir.), Christian Bale, Heat...  \n",
       "4      Sidney Lumet (dir.), Henry Fonda, Lee J. Cobb  \n",
       "5  Steven Spielberg (dir.), Liam Neeson, Ralph Fi...  \n",
       "6  Peter Jackson (dir.), Elijah Wood, Viggo Morte...  \n",
       "7  Quentin Tarantino (dir.), John Travolta, Uma T...  \n",
       "8   Sergio Leone (dir.), Clint Eastwood, Eli Wallach  \n",
       "9    Peter Jackson (dir.), Elijah Wood, Ian McKellen  "
      ]
     },
     "execution_count": 9,
     "metadata": {},
     "output_type": "execute_result"
    }
   ],
   "source": [
    "df.head(10)"
   ]
  },
  {
   "cell_type": "code",
   "execution_count": 11,
   "id": "1b498b53",
   "metadata": {},
   "outputs": [],
   "source": [
    "# 5 - Salvar os dados em um arquivo CSV ou XLSX\n",
    "\n",
    "# Salvando os dados em CSV\n",
    "df.to_csv('WebScrap_Filmes.csv')"
   ]
  },
  {
   "cell_type": "code",
   "execution_count": 12,
   "id": "b946de85",
   "metadata": {},
   "outputs": [],
   "source": [
    "# Salvando os dados em  XLSX(Excel)\n",
    "df.to_excel('WebScrap_Filmes.xlsx')"
   ]
  },
  {
   "cell_type": "code",
   "execution_count": null,
   "id": "61d2daf5",
   "metadata": {},
   "outputs": [],
   "source": []
  }
 ],
 "metadata": {
  "kernelspec": {
   "display_name": "Python 3",
   "language": "python",
   "name": "python3"
  },
  "language_info": {
   "codemirror_mode": {
    "name": "ipython",
    "version": 3
   },
   "file_extension": ".py",
   "mimetype": "text/x-python",
   "name": "python",
   "nbconvert_exporter": "python",
   "pygments_lexer": "ipython3",
   "version": "3.8.8"
  }
 },
 "nbformat": 4,
 "nbformat_minor": 5
}
