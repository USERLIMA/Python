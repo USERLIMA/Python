{
 "cells": [
  {
   "cell_type": "markdown",
   "id": "67239e85",
   "metadata": {},
   "source": [
    "# Listas\n",
    "\n",
    "As listas são os tipos de dados compostos mais versáteis do Python. Uma lista contém itens separados por vírgulas e entre colchetes []"
   ]
  },
  {
   "cell_type": "code",
   "execution_count": 1,
   "id": "22c1bf2c",
   "metadata": {},
   "outputs": [],
   "source": [
    "minhasInfos = ['Adriano', 32, 'adrianoleitedasilva@outlook.com', 'São Paulo']"
   ]
  },
  {
   "cell_type": "code",
   "execution_count": 2,
   "id": "3144b01e",
   "metadata": {},
   "outputs": [
    {
     "name": "stdout",
     "output_type": "stream",
     "text": [
      "['Adriano', 32, 'adrianoleitedasilva@outlook.com', 'São Paulo']\n"
     ]
    }
   ],
   "source": [
    "print(minhasInfos)"
   ]
  },
  {
   "cell_type": "code",
   "execution_count": 7,
   "id": "cb2bdc67",
   "metadata": {},
   "outputs": [
    {
     "name": "stdout",
     "output_type": "stream",
     "text": [
      "Adriano\n",
      "32\n",
      "adrianoleitedasilva@outlook.com\n",
      "São Paulo\n"
     ]
    }
   ],
   "source": [
    "print(minhasInfos[0])\n",
    "print(minhasInfos[1])\n",
    "print(minhasInfos[2])\n",
    "print(minhasInfos[3])"
   ]
  },
  {
   "cell_type": "code",
   "execution_count": 8,
   "id": "6075a581",
   "metadata": {},
   "outputs": [
    {
     "name": "stdout",
     "output_type": "stream",
     "text": [
      "['Adriano', 32]\n"
     ]
    }
   ],
   "source": [
    "print(minhasInfos[:2])"
   ]
  },
  {
   "cell_type": "code",
   "execution_count": 9,
   "id": "4f3a964c",
   "metadata": {},
   "outputs": [
    {
     "name": "stdout",
     "output_type": "stream",
     "text": [
      "[32, 'adrianoleitedasilva@outlook.com']\n"
     ]
    }
   ],
   "source": [
    "print(minhasInfos[1:3])\n"
   ]
  },
  {
   "cell_type": "code",
   "execution_count": 10,
   "id": "cd7c6f06",
   "metadata": {},
   "outputs": [
    {
     "name": "stdout",
     "output_type": "stream",
     "text": [
      "['adrianoleitedasilva@outlook.com']\n"
     ]
    }
   ],
   "source": [
    "print(minhasInfos[2:3])"
   ]
  },
  {
   "cell_type": "code",
   "execution_count": 14,
   "id": "20da3fd2",
   "metadata": {},
   "outputs": [
    {
     "name": "stdout",
     "output_type": "stream",
     "text": [
      "['Adriano', 32, 'adrianoleitedasilva@outlook.com', 'São Paulo', 'Adriano', 32, 'adrianoleitedasilva@outlook.com', 'São Paulo', 'Adriano', 32, 'adrianoleitedasilva@outlook.com', 'São Paulo', 'Adriano', 32, 'adrianoleitedasilva@outlook.com', 'São Paulo']\n"
     ]
    }
   ],
   "source": [
    "print(minhasInfos * 4)"
   ]
  },
  {
   "cell_type": "markdown",
   "id": "894d06bc",
   "metadata": {},
   "source": [
    "## Atualizando lista"
   ]
  },
  {
   "cell_type": "code",
   "execution_count": 27,
   "id": "e9ba6306",
   "metadata": {},
   "outputs": [
    {
     "name": "stdout",
     "output_type": "stream",
     "text": [
      "['Matemática', 'História', 'Geografia', 'Português']\n"
     ]
    }
   ],
   "source": [
    "minhasMaterias = ['Matemática', \"História\", 'Geografia', 'Português']\n",
    "print(minhasMaterias)"
   ]
  },
  {
   "cell_type": "code",
   "execution_count": 21,
   "id": "63d54064",
   "metadata": {},
   "outputs": [
    {
     "name": "stdout",
     "output_type": "stream",
     "text": [
      "Geografia\n"
     ]
    }
   ],
   "source": [
    "print(minhasMaterias[2])"
   ]
  },
  {
   "cell_type": "markdown",
   "id": "ee257303",
   "metadata": {},
   "source": [
    "#### Trocando o valor da posição 2\n",
    "\n",
    "Vamos mudar de Geografia para Inglês"
   ]
  },
  {
   "cell_type": "code",
   "execution_count": 22,
   "id": "a7f60016",
   "metadata": {},
   "outputs": [
    {
     "name": "stdout",
     "output_type": "stream",
     "text": [
      "Inglês\n"
     ]
    }
   ],
   "source": [
    "minhasMaterias[2] = 'Inglês'\n",
    "print(minhasMaterias[2])"
   ]
  },
  {
   "cell_type": "code",
   "execution_count": 19,
   "id": "8145c56e",
   "metadata": {},
   "outputs": [
    {
     "name": "stdout",
     "output_type": "stream",
     "text": [
      "['Matemática', 'História', 'Inglês']\n"
     ]
    }
   ],
   "source": [
    "print(minhasMaterias)"
   ]
  },
  {
   "cell_type": "markdown",
   "id": "6ae31a94",
   "metadata": {},
   "source": [
    "#### Removendo um item da lista"
   ]
  },
  {
   "cell_type": "code",
   "execution_count": 28,
   "id": "6c0a74e8",
   "metadata": {},
   "outputs": [
    {
     "name": "stdout",
     "output_type": "stream",
     "text": [
      "['Matemática', 'História', 'Geografia', 'Português']\n"
     ]
    }
   ],
   "source": [
    "print(minhasMaterias)"
   ]
  },
  {
   "cell_type": "code",
   "execution_count": 29,
   "id": "d608148e",
   "metadata": {},
   "outputs": [
    {
     "name": "stdout",
     "output_type": "stream",
     "text": [
      "['Matemática', 'História', 'Geografia']\n"
     ]
    }
   ],
   "source": [
    "del minhasMaterias[3]\n",
    "print(minhasMaterias)"
   ]
  },
  {
   "cell_type": "markdown",
   "id": "380f7744",
   "metadata": {},
   "source": [
    "# Tuplas\n",
    "\n",
    "Uma tupla é outro tipo de dados de sequência semelhante à lista. \n",
    "\n",
    "**Uma tupla consiste em vários valores separados por vírgulas**. \n",
    "\n",
    "Diferentemente das listas, no entanto, as tuplas são colocadas entre parênteses.\n",
    "\n",
    "A principal diferença entre listas e tuplas é - As listas estão entre colchetes [] e seus elementos e tamanho podem ser alterados, enquanto as tuplas estão entre parênteses() e não podem ser atualizadas."
   ]
  },
  {
   "cell_type": "code",
   "execution_count": 41,
   "id": "0236e3f6",
   "metadata": {},
   "outputs": [
    {
     "name": "stdout",
     "output_type": "stream",
     "text": [
      "('xyz', 123, 456, 'Training')\n",
      "xyz\n",
      "(123, 456)\n",
      "(456, 'Training')\n",
      "('xyz', 123, 456)\n",
      "('Training', 456, 123, 'xyz')\n",
      "Training\n",
      "(123, 'Training')\n",
      "('xyz', 456)\n",
      "('xyz', 123, 456, 'Training')\n"
     ]
    }
   ],
   "source": [
    "minhaTupla = ('xyz', 123, 456, 'Training')\n",
    "\n",
    "print(minhaTupla) # Imprimo todos os valores da tupla\n",
    "print(minhaTupla[0]) # Imprimo o valor do índice 0\n",
    "print(minhaTupla[1:3]) # Imprimiria os valores no intervalo\n",
    "print(minhaTupla[2:])\n",
    "print(minhaTupla[:-1]) # Excluindo o último componente\n",
    "print(minhaTupla[::-1]) # Invertendo a posição da Tupla\n",
    "print(minhaTupla[-1]) # Imprimindo o último valor da Tupla\n",
    "print(minhaTupla[1::2]) # Imprimindo a partir da pos 1 com salto 2\n",
    "print(minhaTupla[0::2]) # Imprimindo a partir da pos 0 com salto 2\n",
    "print(minhaTupla)"
   ]
  },
  {
   "cell_type": "code",
   "execution_count": 42,
   "id": "670b17e6",
   "metadata": {},
   "outputs": [],
   "source": [
    "minhaTuplaDois = (789, 122, 987)"
   ]
  },
  {
   "cell_type": "code",
   "execution_count": 43,
   "id": "449b7724",
   "metadata": {},
   "outputs": [],
   "source": [
    "tuplaResultado = minhaTupla + minhaTuplaDois"
   ]
  },
  {
   "cell_type": "code",
   "execution_count": 45,
   "id": "d5588b74",
   "metadata": {},
   "outputs": [
    {
     "name": "stdout",
     "output_type": "stream",
     "text": [
      "('xyz', 123, 456, 'Training', 789, 122, 987)\n",
      "('xyz', 123, 456, 'Training')\n",
      "(789, 122, 987)\n"
     ]
    }
   ],
   "source": [
    "print(tuplaResultado)\n",
    "print(minhaTupla)\n",
    "print(minhaTuplaDois)"
   ]
  },
  {
   "cell_type": "code",
   "execution_count": 46,
   "id": "ffd76194",
   "metadata": {},
   "outputs": [
    {
     "ename": "NameError",
     "evalue": "name 'minhaTupla' is not defined",
     "output_type": "error",
     "traceback": [
      "\u001b[1;31m---------------------------------------------------------------------------\u001b[0m",
      "\u001b[1;31mNameError\u001b[0m                                 Traceback (most recent call last)",
      "\u001b[1;32m<ipython-input-46-fa1518292d3e>\u001b[0m in \u001b[0;36m<module>\u001b[1;34m\u001b[0m\n\u001b[0;32m      1\u001b[0m \u001b[1;32mdel\u001b[0m \u001b[0mminhaTupla\u001b[0m\u001b[1;33m\u001b[0m\u001b[1;33m\u001b[0m\u001b[0m\n\u001b[1;32m----> 2\u001b[1;33m \u001b[0mprint\u001b[0m\u001b[1;33m(\u001b[0m\u001b[0mminhaTupla\u001b[0m\u001b[1;33m)\u001b[0m\u001b[1;33m\u001b[0m\u001b[1;33m\u001b[0m\u001b[0m\n\u001b[0m",
      "\u001b[1;31mNameError\u001b[0m: name 'minhaTupla' is not defined"
     ]
    }
   ],
   "source": [
    "del minhaTupla\n",
    "print(minhaTupla)"
   ]
  },
  {
   "cell_type": "markdown",
   "id": "d40b7918",
   "metadata": {},
   "source": [
    "# Dicionários\n",
    "\n",
    "Dicionários são pares chave-valor (key-value).\n",
    "\n",
    "Cada chave é separada de seu valor por dois pontos(:), os itens são separados por vírgulas e colocados entre chaves. Um dicionário vazio sem itens é escrito com apenas duas chaves, assim: {}."
   ]
  },
  {
   "cell_type": "code",
   "execution_count": 61,
   "id": "fb181013",
   "metadata": {},
   "outputs": [],
   "source": [
    "meuDicionario = {\n",
    "    'Nome': 'Florinda',\n",
    "    'Idade': 45,\n",
    "    'Curso': 'Pedagogia'\n",
    "}"
   ]
  },
  {
   "cell_type": "code",
   "execution_count": 62,
   "id": "e0b12fd3",
   "metadata": {},
   "outputs": [
    {
     "name": "stdout",
     "output_type": "stream",
     "text": [
      "Florinda\n"
     ]
    }
   ],
   "source": [
    "# Recuperar/Imprimir as infos da Florinda\n",
    "print(meuDicionario['Nome']) # Imprimindo o nome"
   ]
  },
  {
   "cell_type": "code",
   "execution_count": 63,
   "id": "3b55b357",
   "metadata": {},
   "outputs": [
    {
     "name": "stdout",
     "output_type": "stream",
     "text": [
      "45\n"
     ]
    }
   ],
   "source": [
    "# Outra forma de Recuperar a informação desejada\n",
    "print(meuDicionario.get('Idade'))"
   ]
  },
  {
   "cell_type": "code",
   "execution_count": 64,
   "id": "59d513be",
   "metadata": {},
   "outputs": [
    {
     "name": "stdout",
     "output_type": "stream",
     "text": [
      "None\n"
     ]
    }
   ],
   "source": [
    "# Tentando recuperar uma info que NÃOOOOO temos em nosso Dicionário\n",
    "print(meuDicionario.get('Endereco'))\n",
    "\n",
    "# Como não temos Endereço no Dicionário, ele retornará a info NONE."
   ]
  },
  {
   "cell_type": "code",
   "execution_count": 67,
   "id": "e9ee2787",
   "metadata": {},
   "outputs": [
    {
     "ename": "KeyError",
     "evalue": "'nome'",
     "output_type": "error",
     "traceback": [
      "\u001b[1;31m---------------------------------------------------------------------------\u001b[0m",
      "\u001b[1;31mKeyError\u001b[0m                                  Traceback (most recent call last)",
      "\u001b[1;32m<ipython-input-67-e1d83e70514f>\u001b[0m in \u001b[0;36m<module>\u001b[1;34m\u001b[0m\n\u001b[0;32m      1\u001b[0m \u001b[1;31m# Recuperar/Imprimir as infos da Florinda\u001b[0m\u001b[1;33m\u001b[0m\u001b[1;33m\u001b[0m\u001b[1;33m\u001b[0m\u001b[0m\n\u001b[1;32m----> 2\u001b[1;33m \u001b[0mprint\u001b[0m\u001b[1;33m(\u001b[0m\u001b[0mmeuDicionario\u001b[0m\u001b[1;33m[\u001b[0m\u001b[1;34m'nome'\u001b[0m\u001b[1;33m]\u001b[0m\u001b[1;33m)\u001b[0m\u001b[1;33m\u001b[0m\u001b[1;33m\u001b[0m\u001b[0m\n\u001b[0m",
      "\u001b[1;31mKeyError\u001b[0m: 'nome'"
     ]
    }
   ],
   "source": [
    "# Recuperar/Imprimir as infos da Florinda\n",
    "print(meuDicionario['nome'])"
   ]
  },
  {
   "cell_type": "markdown",
   "id": "da9c9a9c",
   "metadata": {},
   "source": [
    "### Atualizando dados do Dicionário"
   ]
  },
  {
   "cell_type": "code",
   "execution_count": 68,
   "id": "23e9cc81",
   "metadata": {},
   "outputs": [],
   "source": [
    "meuDicionario2 = {\n",
    "    'Nome': 'Florinda',\n",
    "    'Idade': 45,\n",
    "    'Curso': 'Pedagogia'\n",
    "}"
   ]
  },
  {
   "cell_type": "code",
   "execution_count": 69,
   "id": "da69dd4d",
   "metadata": {},
   "outputs": [],
   "source": [
    "# Trocando o valor de Idade\n",
    "meuDicionario2['Idade'] = 40 "
   ]
  },
  {
   "cell_type": "code",
   "execution_count": 73,
   "id": "0eaf9136",
   "metadata": {},
   "outputs": [
    {
     "name": "stdout",
     "output_type": "stream",
     "text": [
      "{'Nome': 'Florinda', 'Idade': 40, 'Curso': 'Pedagogia', 'Faculdade': 'Anhembi Morumbi'}\n"
     ]
    }
   ],
   "source": [
    "print(meuDicionario2)"
   ]
  },
  {
   "cell_type": "code",
   "execution_count": 71,
   "id": "61d9a9d1",
   "metadata": {},
   "outputs": [],
   "source": [
    "# Adicionando uma info nova(Chave/Valor)\n",
    "meuDicionario2['Faculdade'] = 'Anhembi Morumbi'"
   ]
  },
  {
   "cell_type": "code",
   "execution_count": 72,
   "id": "05e55a54",
   "metadata": {},
   "outputs": [
    {
     "name": "stdout",
     "output_type": "stream",
     "text": [
      "{'Nome': 'Florinda', 'Idade': 40, 'Curso': 'Pedagogia', 'Faculdade': 'Anhembi Morumbi'}\n"
     ]
    }
   ],
   "source": [
    "print(meuDicionario2)"
   ]
  },
  {
   "cell_type": "markdown",
   "id": "cf9af194",
   "metadata": {},
   "source": [
    "Quero que contenha também a info do semestre\n",
    "- Chave = Semestre\n",
    "- Valor = 3º Semestre"
   ]
  },
  {
   "cell_type": "code",
   "execution_count": 74,
   "id": "230ca459",
   "metadata": {},
   "outputs": [],
   "source": [
    "# Adicionando uma info nova(Chave/Valor)\n",
    "meuDicionario2['Semestre'] = '3º Semestre'"
   ]
  },
  {
   "cell_type": "code",
   "execution_count": 75,
   "id": "69055fdf",
   "metadata": {},
   "outputs": [
    {
     "name": "stdout",
     "output_type": "stream",
     "text": [
      "{'Nome': 'Florinda', 'Idade': 40, 'Curso': 'Pedagogia', 'Faculdade': 'Anhembi Morumbi', 'Semestre': '3º Semestre'}\n"
     ]
    }
   ],
   "source": [
    "print(meuDicionario2)"
   ]
  },
  {
   "cell_type": "markdown",
   "id": "e7432233",
   "metadata": {},
   "source": [
    "# CUIDADOOOOOOOO!\n",
    "\n",
    "### Vamos apagar infos do Dicionário e o próprio Dicionário"
   ]
  },
  {
   "cell_type": "code",
   "execution_count": 77,
   "id": "30dccf7b",
   "metadata": {},
   "outputs": [
    {
     "name": "stdout",
     "output_type": "stream",
     "text": [
      "{'Nome': 'Florinda', 'Idade': 40, 'Curso': 'Pedagogia', 'Faculdade': 'Anhembi Morumbi'}\n"
     ]
    }
   ],
   "source": [
    "# Apagando um elemento com a Chave\n",
    "del meuDicionario2['Semestre']\n",
    "print(meuDicionario2)"
   ]
  },
  {
   "cell_type": "code",
   "execution_count": 78,
   "id": "bb545c38",
   "metadata": {},
   "outputs": [
    {
     "name": "stdout",
     "output_type": "stream",
     "text": [
      "{}\n"
     ]
    }
   ],
   "source": [
    "# Esse é mais perigoso\n",
    "meuDicionario2.clear()\n",
    "print(meuDicionario2)"
   ]
  },
  {
   "cell_type": "code",
   "execution_count": 79,
   "id": "c7371aee",
   "metadata": {},
   "outputs": [
    {
     "ename": "NameError",
     "evalue": "name 'meuDicionario2' is not defined",
     "output_type": "error",
     "traceback": [
      "\u001b[1;31m---------------------------------------------------------------------------\u001b[0m",
      "\u001b[1;31mNameError\u001b[0m                                 Traceback (most recent call last)",
      "\u001b[1;32m<ipython-input-79-01284bd9275b>\u001b[0m in \u001b[0;36m<module>\u001b[1;34m\u001b[0m\n\u001b[0;32m      1\u001b[0m \u001b[1;31m# MEGA CUIDADO\u001b[0m\u001b[1;33m\u001b[0m\u001b[1;33m\u001b[0m\u001b[1;33m\u001b[0m\u001b[0m\n\u001b[0;32m      2\u001b[0m \u001b[1;32mdel\u001b[0m \u001b[0mmeuDicionario2\u001b[0m\u001b[1;33m\u001b[0m\u001b[1;33m\u001b[0m\u001b[0m\n\u001b[1;32m----> 3\u001b[1;33m \u001b[0mprint\u001b[0m\u001b[1;33m(\u001b[0m\u001b[0mmeuDicionario2\u001b[0m\u001b[1;33m)\u001b[0m\u001b[1;33m\u001b[0m\u001b[1;33m\u001b[0m\u001b[0m\n\u001b[0m",
      "\u001b[1;31mNameError\u001b[0m: name 'meuDicionario2' is not defined"
     ]
    }
   ],
   "source": [
    "# MEGA CUIDADO\n",
    "del meuDicionario2\n",
    "print(meuDicionario2)"
   ]
  },
  {
   "cell_type": "code",
   "execution_count": null,
   "id": "2e87a163",
   "metadata": {},
   "outputs": [],
   "source": []
  }
 ],
 "metadata": {
  "kernelspec": {
   "display_name": "Python 3",
   "language": "python",
   "name": "python3"
  },
  "language_info": {
   "codemirror_mode": {
    "name": "ipython",
    "version": 3
   },
   "file_extension": ".py",
   "mimetype": "text/x-python",
   "name": "python",
   "nbconvert_exporter": "python",
   "pygments_lexer": "ipython3",
   "version": "3.8.8"
  }
 },
 "nbformat": 4,
 "nbformat_minor": 5
}
