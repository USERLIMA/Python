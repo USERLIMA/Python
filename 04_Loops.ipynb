{
 "cells": [
  {
   "cell_type": "markdown",
   "id": "92e0c405",
   "metadata": {},
   "source": [
    "# Loops\n",
    "\n",
    "### FOR\n",
    "\n",
    "O loop for no Python é usado para iterar sobre uma sequência(lista , tupla , string) ou outros objetos iteráveis. \n",
    "\n",
    "A iteração sobre uma sequência é chamada de travessia.\n",
    "\n",
    "#### Sintaxe\n",
    "\n",
    "- for val in sequence:\n",
    "    -\tcorpo do loop for\n",
    " "
   ]
  },
  {
   "cell_type": "code",
   "execution_count": null,
   "id": "a60fddd7",
   "metadata": {},
   "outputs": [],
   "source": [
    "# Minha lista com números a serem somados\n",
    "numeros = [18, 30, 21, 9, 43, 29, 32, 2, 110]\n",
    "\n",
    "# Criando a var soma já com o valor 0 inserido nela.\n",
    "soma = 0\n",
    "\n",
    "# Vamos criar o bloco para iniciar a soma de todos os números da lista\n",
    "for val in numeros:\n",
    "    soma = soma + val\n",
    "    print(\"Adriano, a soma até o momento é de: \", soma)\n",
    "\n",
    "print(\"O resultado da soma é: \", soma)"
   ]
  },
  {
   "cell_type": "markdown",
   "id": "7924de2d",
   "metadata": {},
   "source": [
    "### Função Range\n",
    "\n",
    "Podemos gerar uma sequência de números usando a função range(), por exemplo: range(10) irá gerar números de 0 a 9 (10 números).\n",
    "\n",
    "Também podemos definir o tamanho de início, parada e passo da seguinte forma: range(start, stop, step_size). O padrão step_size é 1 se não for fornecido.\n",
    "\n",
    "O objeto range é \"preguiçoso\" em certo sentido, porque não gera todos os números que \"contidos\" quando o criamos. No entanto, não é um iterador uma vez que suporta as operações in, len e __getitem__."
   ]
  },
  {
   "cell_type": "code",
   "execution_count": null,
   "id": "40df8a35",
   "metadata": {},
   "outputs": [],
   "source": [
    "# Gerando uma range\n",
    "print(range(11))\n",
    "\n",
    "# Gerando uma lista com valores de 0 até 10(11 posições)\n",
    "print(list(range(11)))\n",
    "\n",
    "# Gerando uma lista com valores de 0 até 10(11 posições)\n",
    "print(list(range(1,9)))\n",
    "\n",
    "# Gerando uma lista que começa na pos 0 e vai até a 41, mas mostramos o passo 2\n",
    "# desta forma apresentamos os valores pares\n",
    "print(list(range(0, 41, 2)))\n",
    "\n",
    "# Gerando uma lista que começa na pos 1 e vai até a 41, mas mostramos o passo 2\n",
    "# desta forma apresentamos os valores impares\n",
    "print(list(range(1, 41, 2)))"
   ]
  },
  {
   "cell_type": "code",
   "execution_count": null,
   "id": "d4fd47d2",
   "metadata": {},
   "outputs": [],
   "source": [
    "# Minha lista com números a serem somados\n",
    "numeros = list(range(1, 41, 2))\n",
    "\n",
    "# Criando a var soma já com o valor 0 inserido nela.\n",
    "soma = 0\n",
    "\n",
    "# Vamos criar o bloco para iniciar a soma de todos os números da lista\n",
    "for val in numeros:\n",
    "    soma = soma + val\n",
    "    print(\"Adriano, a soma até o momento é de: \", soma)\n",
    "\n",
    "print(\"O resultado da soma é: \", soma)"
   ]
  },
  {
   "cell_type": "markdown",
   "id": "957e32f3",
   "metadata": {},
   "source": [
    "#### Outro exemplo"
   ]
  },
  {
   "cell_type": "code",
   "execution_count": null,
   "id": "d63b98a0",
   "metadata": {},
   "outputs": [],
   "source": [
    "estilosMusicais = ['Rock', 'Clássica', 'Jazz', 'MPB', 'Blues', 'Outros']\n",
    "\n",
    "# Laço apra preencher uma frase e mostrar ao usuário os estilos existentes\n",
    "for i in range(len(estilosMusicais)): # Comprimento da lista = Len(length)\n",
    "    print(i+1, '- Gosto de ouvir músicas do gênero:', estilosMusicais[i])"
   ]
  },
  {
   "cell_type": "markdown",
   "id": "4db6f9e7",
   "metadata": {},
   "source": [
    "# Loop For + Else"
   ]
  },
  {
   "cell_type": "code",
   "execution_count": null,
   "id": "ea8713e2",
   "metadata": {},
   "outputs": [],
   "source": [
    "itens = [1, 3, 5, 7, 9]\n",
    "\n",
    "for i in itens: # Dessa forma o laço irá executar e mostrar todos os itens\n",
    "    print(i)\n",
    "else:\n",
    "    print(\"FIM... Todos os valores já foram exibidos!\")"
   ]
  },
  {
   "cell_type": "markdown",
   "id": "dc2163a4",
   "metadata": {},
   "source": [
    "# Laço For com If interno"
   ]
  },
  {
   "cell_type": "code",
   "execution_count": null,
   "id": "7074117a",
   "metadata": {},
   "outputs": [],
   "source": [
    "estudante_nome = 'Thiago'\n",
    "\n",
    "registros = {\n",
    "    'Adriano': 8.5,\n",
    "    'Marcelo': 9.9,\n",
    "    'Shirley': 10,\n",
    "    'Wilson': 0,\n",
    "    'Tiago': 7\n",
    "}\n",
    "\n",
    "for estudante in registros:\n",
    "    if estudante == estudante_nome:\n",
    "        print(registros[estudante])\n",
    "        break # Comando interrompe a execução caso entre neste ponto\n",
    "else:\n",
    "    print('Não há registros para o aluno pesquisado!')"
   ]
  },
  {
   "cell_type": "markdown",
   "id": "7305109e",
   "metadata": {},
   "source": [
    "# While - Laço Enquanto\n",
    "\n",
    "No loop while, a expressão de teste(test_expression) é verificada, em primeira instância. O corpo do loop é inserido apenas se a avaliação da expressão de teste(test_expression) for True. \n",
    "\n",
    "Após uma iteração, a expressão de teste (test_expression) é verificada novamente.\n",
    "\n",
    "Esse processo continua até que a expressão de teste(test_expression) seja False.\n",
    "\n",
    "Em Python, o corpo do loop while é determinado por meio de identação.\n",
    "O corpo começa com recuo e a primeira linha sem recuo marca o fim.\n",
    "Python interpreta qualquer valor diferente de zero como True. None e 0 (zero) são interpretados como False.\n",
    "\n",
    "- while test_expression:\n",
    "        - conjunto de instruções de while\n"
   ]
  },
  {
   "cell_type": "code",
   "execution_count": 7,
   "id": "76c7d601",
   "metadata": {},
   "outputs": [
    {
     "name": "stdout",
     "output_type": "stream",
     "text": [
      "1 - O valor parcial da soma é:  1\n",
      "2 - O valor parcial da soma é:  3\n",
      "3 - O valor parcial da soma é:  6\n",
      "4 - O valor parcial da soma é:  10\n",
      "5 - O valor parcial da soma é:  15\n",
      "6 - O valor parcial da soma é:  21\n",
      "7 - O valor parcial da soma é:  28\n",
      "8 - O valor parcial da soma é:  36\n",
      "9 - O valor parcial da soma é:  45\n",
      "10 - O valor parcial da soma é:  55\n",
      "11 - O valor parcial da soma é:  66\n",
      "12 - O valor parcial da soma é:  78\n",
      "13 - O valor parcial da soma é:  91\n",
      "14 - O valor parcial da soma é:  105\n",
      "15 - O valor parcial da soma é:  120\n",
      "\n",
      "O Resultado da soma é:  120\n"
     ]
    }
   ],
   "source": [
    "# Programa que faz a soma dos valores\n",
    "num = 15 # Valor final para nosso teste\n",
    "x = 1 # Inicia nosso contador com o valor 1\n",
    "resultado = 0 # Iniciamos a var resultado com valor zerado\n",
    "\n",
    "# Usando o Loop para fazer a soma dos valores\n",
    "while x <= num:\n",
    "    resultado = resultado + x\n",
    "    x = x + 1 # Incremento o valor de x\n",
    "    print(x-1, '- O valor parcial da soma é: ', resultado)\n",
    "    \n",
    "print('\\nO Resultado da soma é: ', resultado)"
   ]
  },
  {
   "cell_type": "markdown",
   "id": "7b164ac9",
   "metadata": {},
   "source": [
    "#### Outro exemplo do While"
   ]
  },
  {
   "cell_type": "code",
   "execution_count": 15,
   "id": "83c12da1",
   "metadata": {},
   "outputs": [
    {
     "name": "stdout",
     "output_type": "stream",
     "text": [
      "Dentro do While\n",
      "Dentro do While\n",
      "Dentro do While\n",
      "Dentro do Else\n"
     ]
    }
   ],
   "source": [
    "contador = 0\n",
    "\n",
    "while contador < 3:\n",
    "    print(\"Dentro do While\")\n",
    "    contador = contador + 1\n",
    "else:\n",
    "    print(\"Dentro do Else\")"
   ]
  },
  {
   "cell_type": "code",
   "execution_count": 16,
   "id": "b65d909f",
   "metadata": {},
   "outputs": [
    {
     "name": "stdout",
     "output_type": "stream",
     "text": [
      "Senha errada! 1ªtentativa\n",
      "Senha errada! 2ªtentativa\n",
      "Senha errada! 3ªtentativa\n",
      "\n",
      "Senha bloqueada\n"
     ]
    }
   ],
   "source": [
    "tentativa = 0\n",
    " \n",
    "while tentativa < 3: \n",
    "    print ('Senha errada! {}ªtentativa'.format(tentativa+1))\n",
    "    tentativa = tentativa + 1\n",
    "else:\n",
    "    print('\\nSenha bloqueada')"
   ]
  },
  {
   "cell_type": "code",
   "execution_count": 20,
   "id": "987eeda5",
   "metadata": {},
   "outputs": [
    {
     "name": "stdout",
     "output_type": "stream",
     "text": [
      "Senha errada! 1ª tentativa\n",
      "Senha errada! 2ª tentativa\n",
      "Senha errada! 3ª tentativa\n",
      "\n",
      "Seu cartão foi bloqueado, devido múltiplas tentativas com a senha incorreta. Favor, contatar o atendimento ao cliente!\n"
     ]
    }
   ],
   "source": [
    "contador = 0\n",
    "\n",
    "while contador <3:\n",
    "    contador = contador+1\n",
    "    print(\"Senha errada! {}ª tentativa\".format(contador))\n",
    "else:\n",
    "    print(\"\\nSeu cartão foi bloqueado, devido múltiplas tentativas com a senha incorreta. Favor, contatar o atendimento ao cliente!\")\n"
   ]
  },
  {
   "cell_type": "code",
   "execution_count": 21,
   "id": "6f792d8a",
   "metadata": {},
   "outputs": [
    {
     "name": "stdout",
     "output_type": "stream",
     "text": [
      "Gosto de ouvir os generos Musicais:  Classica\n",
      "Gosto de ouvir os generos Musicais:  Jazz\n",
      "Gosto de ouvir os generos Musicais:  MPB\n",
      "Gosto de ouvir os generos Musicais:  Blues\n",
      "Gosto de ouvir os generos Musicais:  Outros\n"
     ]
    }
   ],
   "source": [
    "estilosMusicais = ['Rock','Classica','Jazz','MPB','Blues','Outros']\n",
    "\n",
    "for i in range(len(estilosMusicais)):\n",
    "    if i != 0:\n",
    "        print(\"Gosto de ouvir os generos Musicais: \", estilosMusicais[i])"
   ]
  },
  {
   "cell_type": "code",
   "execution_count": 25,
   "id": "1cf3d5d9",
   "metadata": {},
   "outputs": [
    {
     "name": "stdout",
     "output_type": "stream",
     "text": [
      "Senha errada 1 vez!\n",
      "Senha errada 2 vezes!\n",
      "Senha errada 3 vezes!\n",
      "Senha bloqueada\n"
     ]
    }
   ],
   "source": [
    "contador=1\n",
    "\n",
    "while contador < 4:\n",
    "    if contador == 1:\n",
    "        print (\"Senha errada\", contador, \"vez!\")\n",
    "    elif contador > 1:\n",
    "        print (\"Senha errada\", contador, \"vezes!\")\n",
    "    contador = contador + 1\n",
    "else:\n",
    "    print('Senha bloqueada')"
   ]
  },
  {
   "cell_type": "markdown",
   "id": "49388d04",
   "metadata": {},
   "source": [
    "## Break e Continue\n",
    "\n",
    "Em Python, as instruções break e continue podem alterar o fluxo de um loop normal.\n",
    "\n",
    "Os loops iteram sobre um bloco de código até que a expressão de teste(test_expression) seja falsa, mas às vezes desejamos terminar a iteração atual ou mesmo o loop inteiro sem verificar a expressão de teste(test_expression).\n",
    "\n",
    "As  instruções break e continue são usadas para se construir esse tipo de cenário.\n",
    "\n",
    "#### Declaração break \n",
    "\n",
    "A declaração break finaliza o loop que a contém. O controle do programa flui para a instrução imediatamente após o corpo do loop.\n",
    "\n",
    "Se a declaração break estiver dentro de um loop aninhado (loop dentro de outro loop), encerrará o loop que estiver numa posição mais interna.\n"
   ]
  },
  {
   "cell_type": "code",
   "execution_count": 26,
   "id": "524e24fa",
   "metadata": {},
   "outputs": [
    {
     "name": "stdout",
     "output_type": "stream",
     "text": [
      "u\n",
      "m\n",
      "a\n",
      " \n",
      "\n",
      "Fim!\n"
     ]
    }
   ],
   "source": [
    "for i in 'uma frase':\n",
    "    if i == 'f':\n",
    "        break\n",
    "    print(i)\n",
    "\n",
    "print(\"\\nFim!\")"
   ]
  },
  {
   "cell_type": "code",
   "execution_count": 27,
   "id": "5c08f26c",
   "metadata": {},
   "outputs": [
    {
     "name": "stdout",
     "output_type": "stream",
     "text": [
      "u\n",
      "m\n",
      "a\n",
      " \n",
      "r\n",
      "a\n",
      "s\n",
      "e\n",
      "\n",
      "Fim!\n"
     ]
    }
   ],
   "source": [
    "# Declarando o Continue\n",
    "for i in 'uma frase':\n",
    "    if i == 'f':\n",
    "        continue\n",
    "    print(i)\n",
    "\n",
    "print(\"\\nFim!\")"
   ]
  },
  {
   "cell_type": "code",
   "execution_count": 28,
   "id": "36feb1e2",
   "metadata": {},
   "outputs": [
    {
     "name": "stdout",
     "output_type": "stream",
     "text": [
      "u\n",
      "m\n",
      "a\n",
      " \n",
      "f\n",
      "r\n",
      "a\n",
      "s\n",
      "e\n",
      "\n",
      "Fim!\n"
     ]
    }
   ],
   "source": [
    "# Declarando o Continue\n",
    "for i in 'uma frase':\n",
    "    print(i)\n",
    "\n",
    "print(\"\\nFim!\")"
   ]
  },
  {
   "cell_type": "code",
   "execution_count": null,
   "id": "c403e2cf",
   "metadata": {},
   "outputs": [],
   "source": []
  }
 ],
 "metadata": {
  "kernelspec": {
   "display_name": "Python 3",
   "language": "python",
   "name": "python3"
  },
  "language_info": {
   "codemirror_mode": {
    "name": "ipython",
    "version": 3
   },
   "file_extension": ".py",
   "mimetype": "text/x-python",
   "name": "python",
   "nbconvert_exporter": "python",
   "pygments_lexer": "ipython3",
   "version": "3.8.8"
  }
 },
 "nbformat": 4,
 "nbformat_minor": 5
}
